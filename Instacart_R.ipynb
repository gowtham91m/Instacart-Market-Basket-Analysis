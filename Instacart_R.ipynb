{
 "cells": [
  {
   "cell_type": "code",
   "execution_count": 1,
   "metadata": {
    "collapsed": false
   },
   "outputs": [
    {
     "name": "stderr",
     "output_type": "stream",
     "text": [
      "Loading required package: Matrix\n",
      "\n",
      "Attaching package: 'arules'\n",
      "\n",
      "The following objects are masked from 'package:base':\n",
      "\n",
      "    abbreviate, write\n",
      "\n"
     ]
    }
   ],
   "source": [
    "library(data.table)\n",
    "library(dtplyr)\n",
    "library(arules)\n",
    "library(plyr)\n",
    "setwd('E:\\\\kaggle\\\\market_basket')"
   ]
  },
  {
   "cell_type": "code",
   "execution_count": 43,
   "metadata": {
    "collapsed": false
   },
   "outputs": [],
   "source": []
  },
  {
   "cell_type": "code",
   "execution_count": 44,
   "metadata": {
    "collapsed": false
   },
   "outputs": [
    {
     "name": "stdout",
     "output_type": "stream",
     "text": [
      "Read 3421083 rows and 7 (of 7) columns from 0.101 GB file in 00:00:04\n",
      "Read 32434489 rows and 4 (of 4) columns from 0.538 GB file in 00:00:15\n"
     ]
    }
   ],
   "source": [
    "orders <- fread('orders.csv')\n",
    "products <- fread('products.csv')\n",
    "op_train <- fread('order_products__train.csv')\n",
    "op_prior <- fread('order_products__prior.csv')\n",
    "aisles <- fread('aisles.csv')\n",
    "departments <- fread('departments.csv')"
   ]
  },
  {
   "cell_type": "code",
   "execution_count": 16,
   "metadata": {
    "collapsed": false
   },
   "outputs": [],
   "source": [
    "orders$order_hour_of_day <- as.numeric(orders$order_hour_of_day)\n",
    "products$product_name <- as.factor(products$product_name)"
   ]
  },
  {
   "cell_type": "code",
   "execution_count": 17,
   "metadata": {
    "collapsed": false
   },
   "outputs": [
    {
     "data": {
      "text/html": [
       "<ol class=list-inline>\n",
       "\t<li>3421083</li>\n",
       "\t<li>7</li>\n",
       "</ol>\n"
      ],
      "text/latex": [
       "\\begin{enumerate*}\n",
       "\\item 3421083\n",
       "\\item 7\n",
       "\\end{enumerate*}\n"
      ],
      "text/markdown": [
       "1. 3421083\n",
       "2. 7\n",
       "\n",
       "\n"
      ],
      "text/plain": [
       "[1] 3421083       7"
      ]
     },
     "metadata": {},
     "output_type": "display_data"
    },
    {
     "data": {
      "text/html": [
       "<ol class=list-inline>\n",
       "\t<li>49688</li>\n",
       "\t<li>4</li>\n",
       "</ol>\n"
      ],
      "text/latex": [
       "\\begin{enumerate*}\n",
       "\\item 49688\n",
       "\\item 4\n",
       "\\end{enumerate*}\n"
      ],
      "text/markdown": [
       "1. 49688\n",
       "2. 4\n",
       "\n",
       "\n"
      ],
      "text/plain": [
       "[1] 49688     4"
      ]
     },
     "metadata": {},
     "output_type": "display_data"
    },
    {
     "data": {
      "text/html": [
       "<ol class=list-inline>\n",
       "\t<li>1384617</li>\n",
       "\t<li>4</li>\n",
       "</ol>\n"
      ],
      "text/latex": [
       "\\begin{enumerate*}\n",
       "\\item 1384617\n",
       "\\item 4\n",
       "\\end{enumerate*}\n"
      ],
      "text/markdown": [
       "1. 1384617\n",
       "2. 4\n",
       "\n",
       "\n"
      ],
      "text/plain": [
       "[1] 1384617       4"
      ]
     },
     "metadata": {},
     "output_type": "display_data"
    },
    {
     "data": {
      "text/html": [
       "<ol class=list-inline>\n",
       "\t<li>32434489</li>\n",
       "\t<li>4</li>\n",
       "</ol>\n"
      ],
      "text/latex": [
       "\\begin{enumerate*}\n",
       "\\item 32434489\n",
       "\\item 4\n",
       "\\end{enumerate*}\n"
      ],
      "text/markdown": [
       "1. 32434489\n",
       "2. 4\n",
       "\n",
       "\n"
      ],
      "text/plain": [
       "[1] 32434489        4"
      ]
     },
     "metadata": {},
     "output_type": "display_data"
    },
    {
     "data": {
      "text/html": [
       "<ol class=list-inline>\n",
       "\t<li>134</li>\n",
       "\t<li>2</li>\n",
       "</ol>\n"
      ],
      "text/latex": [
       "\\begin{enumerate*}\n",
       "\\item 134\n",
       "\\item 2\n",
       "\\end{enumerate*}\n"
      ],
      "text/markdown": [
       "1. 134\n",
       "2. 2\n",
       "\n",
       "\n"
      ],
      "text/plain": [
       "[1] 134   2"
      ]
     },
     "metadata": {},
     "output_type": "display_data"
    },
    {
     "data": {
      "text/html": [
       "<ol class=list-inline>\n",
       "\t<li>21</li>\n",
       "\t<li>2</li>\n",
       "</ol>\n"
      ],
      "text/latex": [
       "\\begin{enumerate*}\n",
       "\\item 21\n",
       "\\item 2\n",
       "\\end{enumerate*}\n"
      ],
      "text/markdown": [
       "1. 21\n",
       "2. 2\n",
       "\n",
       "\n"
      ],
      "text/plain": [
       "[1] 21  2"
      ]
     },
     "metadata": {},
     "output_type": "display_data"
    }
   ],
   "source": [
    "dim(orders)\n",
    "dim(products)\n",
    "dim(op_train)\n",
    "dim(op_prior)\n",
    "dim(aisles)\n",
    "dim(departments)"
   ]
  },
  {
   "cell_type": "code",
   "execution_count": 18,
   "metadata": {
    "collapsed": false
   },
   "outputs": [
    {
     "data": {
      "text/html": [
       "206209"
      ],
      "text/latex": [
       "206209"
      ],
      "text/markdown": [
       "206209"
      ],
      "text/plain": [
       "[1] 206209"
      ]
     },
     "metadata": {},
     "output_type": "display_data"
    },
    {
     "data": {
      "text/html": [
       "0"
      ],
      "text/latex": [
       "0"
      ],
      "text/markdown": [
       "0"
      ],
      "text/plain": [
       "[1] 0"
      ]
     },
     "metadata": {},
     "output_type": "display_data"
    },
    {
     "data": {
      "text/html": [
       "0"
      ],
      "text/latex": [
       "0"
      ],
      "text/markdown": [
       "0"
      ],
      "text/plain": [
       "[1] 0"
      ]
     },
     "metadata": {},
     "output_type": "display_data"
    },
    {
     "data": {
      "text/html": [
       "0"
      ],
      "text/latex": [
       "0"
      ],
      "text/markdown": [
       "0"
      ],
      "text/plain": [
       "[1] 0"
      ]
     },
     "metadata": {},
     "output_type": "display_data"
    },
    {
     "data": {
      "text/html": [
       "0"
      ],
      "text/latex": [
       "0"
      ],
      "text/markdown": [
       "0"
      ],
      "text/plain": [
       "[1] 0"
      ]
     },
     "metadata": {},
     "output_type": "display_data"
    },
    {
     "data": {
      "text/html": [
       "0"
      ],
      "text/latex": [
       "0"
      ],
      "text/markdown": [
       "0"
      ],
      "text/plain": [
       "[1] 0"
      ]
     },
     "metadata": {},
     "output_type": "display_data"
    }
   ],
   "source": [
    "# Number of missing values anywhere in the table\n",
    "sum(is.na(orders))\n",
    "sum(is.na(products))\n",
    "sum(is.na(op_train))\n",
    "sum(is.na(op_prior))\n",
    "sum(is.na(aisles))\n",
    "sum(is.na(departments))"
   ]
  },
  {
   "cell_type": "code",
   "execution_count": 19,
   "metadata": {
    "collapsed": false
   },
   "outputs": [
    {
     "data": {
      "text/html": [
       "<dl class=dl-horizontal>\n",
       "\t<dt>order_id</dt>\n",
       "\t\t<dd>0</dd>\n",
       "\t<dt>user_id</dt>\n",
       "\t\t<dd>0</dd>\n",
       "\t<dt>eval_set</dt>\n",
       "\t\t<dd>0</dd>\n",
       "\t<dt>order_number</dt>\n",
       "\t\t<dd>0</dd>\n",
       "\t<dt>order_dow</dt>\n",
       "\t\t<dd>0</dd>\n",
       "\t<dt>order_hour_of_day</dt>\n",
       "\t\t<dd>0</dd>\n",
       "\t<dt>days_since_prior_order</dt>\n",
       "\t\t<dd>206209</dd>\n",
       "</dl>\n"
      ],
      "text/latex": [
       "\\begin{description*}\n",
       "\\item[order\\textbackslash{}\\_id] 0\n",
       "\\item[user\\textbackslash{}\\_id] 0\n",
       "\\item[eval\\textbackslash{}\\_set] 0\n",
       "\\item[order\\textbackslash{}\\_number] 0\n",
       "\\item[order\\textbackslash{}\\_dow] 0\n",
       "\\item[order\\textbackslash{}\\_hour\\textbackslash{}\\_of\\textbackslash{}\\_day] 0\n",
       "\\item[days\\textbackslash{}\\_since\\textbackslash{}\\_prior\\textbackslash{}\\_order] 206209\n",
       "\\end{description*}\n"
      ],
      "text/markdown": [
       "order_id\n",
       ":   0user_id\n",
       ":   0eval_set\n",
       ":   0order_number\n",
       ":   0order_dow\n",
       ":   0order_hour_of_day\n",
       ":   0days_since_prior_order\n",
       ":   206209\n",
       "\n"
      ],
      "text/plain": [
       "              order_id                user_id               eval_set \n",
       "                     0                      0                      0 \n",
       "          order_number              order_dow      order_hour_of_day \n",
       "                     0                      0                      0 \n",
       "days_since_prior_order \n",
       "                206209 "
      ]
     },
     "metadata": {},
     "output_type": "display_data"
    }
   ],
   "source": [
    "sapply(orders, function(x) sum(is.na(x)))"
   ]
  },
  {
   "cell_type": "markdown",
   "metadata": {},
   "source": [
    "Only days_sine_prior_order column from Orders table have missing values"
   ]
  },
  {
   "cell_type": "code",
   "execution_count": 20,
   "metadata": {
    "collapsed": false
   },
   "outputs": [],
   "source": [
    "# Replace missing values to -1\n",
    "orders[[\"days_since_prior_order\"]][is.na(orders[[\"days_since_prior_order\"]])] <- -1"
   ]
  },
  {
   "cell_type": "code",
   "execution_count": 21,
   "metadata": {
    "collapsed": false
   },
   "outputs": [],
   "source": [
    "# combine aisles, departments and products (left joined to products)\n",
    "goods = merge(x=merge(products,departments,by = \"department_id\"), y=aisles, by = \"aisle_id\") "
   ]
  },
  {
   "cell_type": "code",
   "execution_count": 22,
   "metadata": {
    "collapsed": false
   },
   "outputs": [
    {
     "data": {
      "text/html": [
       "<ol class=list-inline>\n",
       "\t<li>49688</li>\n",
       "\t<li>6</li>\n",
       "</ol>\n"
      ],
      "text/latex": [
       "\\begin{enumerate*}\n",
       "\\item 49688\n",
       "\\item 6\n",
       "\\end{enumerate*}\n"
      ],
      "text/markdown": [
       "1. 49688\n",
       "2. 6\n",
       "\n",
       "\n"
      ],
      "text/plain": [
       "[1] 49688     6"
      ]
     },
     "metadata": {},
     "output_type": "display_data"
    }
   ],
   "source": [
    "dim(goods)"
   ]
  },
  {
   "cell_type": "code",
   "execution_count": 23,
   "metadata": {
    "collapsed": false
   },
   "outputs": [],
   "source": [
    "# Merge Orders and Order_products_train data\n",
    "train_orders = merge(op_train,orders,x.all=TRUE,by = 'order_id')"
   ]
  },
  {
   "cell_type": "code",
   "execution_count": null,
   "metadata": {
    "collapsed": true
   },
   "outputs": [],
   "source": [
    "train_order_details = merge(train_orders,goods,x.all=TRUE,by='product_id')"
   ]
  },
  {
   "cell_type": "code",
   "execution_count": 24,
   "metadata": {
    "collapsed": false
   },
   "outputs": [],
   "source": [
    "# Merge Orders and Order_products_prior data\n",
    "prior_orders = merge(op_prior,orders,x.all = TRUE,by='order_id')"
   ]
  },
  {
   "cell_type": "code",
   "execution_count": null,
   "metadata": {
    "collapsed": true
   },
   "outputs": [],
   "source": [
    "prior_train_orders = prior_orders[user_id %in% unique(train_orders$user_id)]"
   ]
  },
  {
   "cell_type": "code",
   "execution_count": null,
   "metadata": {
    "collapsed": true
   },
   "outputs": [],
   "source": [
    "prior_train_order_details = merge(prior_train_orders,goods,x.all=TRUE,by='product_id')"
   ]
  },
  {
   "cell_type": "code",
   "execution_count": 25,
   "metadata": {
    "collapsed": false
   },
   "outputs": [],
   "source": [
    "#setorderv(prior_orders,\"order_number\")"
   ]
  },
  {
   "cell_type": "code",
   "execution_count": 26,
   "metadata": {
    "collapsed": false
   },
   "outputs": [
    {
     "data": {
      "text/html": [
       "<table>\n",
       "<thead><tr><th scope=col>order_id</th><th scope=col>product_id</th><th scope=col>add_to_cart_order</th><th scope=col>reordered</th><th scope=col>user_id</th><th scope=col>eval_set</th><th scope=col>order_number</th><th scope=col>order_dow</th><th scope=col>order_hour_of_day</th><th scope=col>days_since_prior_order</th></tr></thead>\n",
       "<tbody>\n",
       "\t<tr><td>2539329</td><td>  196  </td><td>1      </td><td>0      </td><td>1      </td><td>prior  </td><td> 1     </td><td>2      </td><td> 8     </td><td>-1     </td></tr>\n",
       "\t<tr><td>2539329</td><td>14084  </td><td>2      </td><td>0      </td><td>1      </td><td>prior  </td><td> 1     </td><td>2      </td><td> 8     </td><td>-1     </td></tr>\n",
       "\t<tr><td>2539329</td><td>12427  </td><td>3      </td><td>0      </td><td>1      </td><td>prior  </td><td> 1     </td><td>2      </td><td> 8     </td><td>-1     </td></tr>\n",
       "\t<tr><td>2539329</td><td>26088  </td><td>4      </td><td>0      </td><td>1      </td><td>prior  </td><td> 1     </td><td>2      </td><td> 8     </td><td>-1     </td></tr>\n",
       "\t<tr><td>2539329</td><td>26405  </td><td>5      </td><td>0      </td><td>1      </td><td>prior  </td><td> 1     </td><td>2      </td><td> 8     </td><td>-1     </td></tr>\n",
       "\t<tr><td>2398795</td><td>  196  </td><td>1      </td><td>1      </td><td>1      </td><td>prior  </td><td> 2     </td><td>3      </td><td> 7     </td><td>15     </td></tr>\n",
       "\t<tr><td>2398795</td><td>10258  </td><td>2      </td><td>0      </td><td>1      </td><td>prior  </td><td> 2     </td><td>3      </td><td> 7     </td><td>15     </td></tr>\n",
       "\t<tr><td>2398795</td><td>12427  </td><td>3      </td><td>1      </td><td>1      </td><td>prior  </td><td> 2     </td><td>3      </td><td> 7     </td><td>15     </td></tr>\n",
       "\t<tr><td>2398795</td><td>13176  </td><td>4      </td><td>0      </td><td>1      </td><td>prior  </td><td> 2     </td><td>3      </td><td> 7     </td><td>15     </td></tr>\n",
       "\t<tr><td>2398795</td><td>26088  </td><td>5      </td><td>1      </td><td>1      </td><td>prior  </td><td> 2     </td><td>3      </td><td> 7     </td><td>15     </td></tr>\n",
       "\t<tr><td>2398795</td><td>13032  </td><td>6      </td><td>0      </td><td>1      </td><td>prior  </td><td> 2     </td><td>3      </td><td> 7     </td><td>15     </td></tr>\n",
       "\t<tr><td> 473747</td><td>  196  </td><td>1      </td><td>1      </td><td>1      </td><td>prior  </td><td> 3     </td><td>3      </td><td>12     </td><td>21     </td></tr>\n",
       "\t<tr><td> 473747</td><td>12427  </td><td>2      </td><td>1      </td><td>1      </td><td>prior  </td><td> 3     </td><td>3      </td><td>12     </td><td>21     </td></tr>\n",
       "\t<tr><td> 473747</td><td>10258  </td><td>3      </td><td>1      </td><td>1      </td><td>prior  </td><td> 3     </td><td>3      </td><td>12     </td><td>21     </td></tr>\n",
       "\t<tr><td> 473747</td><td>25133  </td><td>4      </td><td>0      </td><td>1      </td><td>prior  </td><td> 3     </td><td>3      </td><td>12     </td><td>21     </td></tr>\n",
       "\t<tr><td> 473747</td><td>30450  </td><td>5      </td><td>0      </td><td>1      </td><td>prior  </td><td> 3     </td><td>3      </td><td>12     </td><td>21     </td></tr>\n",
       "\t<tr><td>2254736</td><td>  196  </td><td>1      </td><td>1      </td><td>1      </td><td>prior  </td><td> 4     </td><td>4      </td><td> 7     </td><td>29     </td></tr>\n",
       "\t<tr><td>2254736</td><td>12427  </td><td>2      </td><td>1      </td><td>1      </td><td>prior  </td><td> 4     </td><td>4      </td><td> 7     </td><td>29     </td></tr>\n",
       "\t<tr><td>2254736</td><td>10258  </td><td>3      </td><td>1      </td><td>1      </td><td>prior  </td><td> 4     </td><td>4      </td><td> 7     </td><td>29     </td></tr>\n",
       "\t<tr><td>2254736</td><td>25133  </td><td>4      </td><td>1      </td><td>1      </td><td>prior  </td><td> 4     </td><td>4      </td><td> 7     </td><td>29     </td></tr>\n",
       "\t<tr><td>2254736</td><td>26405  </td><td>5      </td><td>1      </td><td>1      </td><td>prior  </td><td> 4     </td><td>4      </td><td> 7     </td><td>29     </td></tr>\n",
       "\t<tr><td> 431534</td><td>  196  </td><td>1      </td><td>1      </td><td>1      </td><td>prior  </td><td> 5     </td><td>4      </td><td>15     </td><td>28     </td></tr>\n",
       "\t<tr><td> 431534</td><td>12427  </td><td>2      </td><td>1      </td><td>1      </td><td>prior  </td><td> 5     </td><td>4      </td><td>15     </td><td>28     </td></tr>\n",
       "\t<tr><td> 431534</td><td>10258  </td><td>3      </td><td>1      </td><td>1      </td><td>prior  </td><td> 5     </td><td>4      </td><td>15     </td><td>28     </td></tr>\n",
       "\t<tr><td> 431534</td><td>25133  </td><td>4      </td><td>1      </td><td>1      </td><td>prior  </td><td> 5     </td><td>4      </td><td>15     </td><td>28     </td></tr>\n",
       "\t<tr><td> 431534</td><td>10326  </td><td>5      </td><td>0      </td><td>1      </td><td>prior  </td><td> 5     </td><td>4      </td><td>15     </td><td>28     </td></tr>\n",
       "\t<tr><td> 431534</td><td>17122  </td><td>6      </td><td>0      </td><td>1      </td><td>prior  </td><td> 5     </td><td>4      </td><td>15     </td><td>28     </td></tr>\n",
       "\t<tr><td> 431534</td><td>41787  </td><td>7      </td><td>0      </td><td>1      </td><td>prior  </td><td> 5     </td><td>4      </td><td>15     </td><td>28     </td></tr>\n",
       "\t<tr><td> 431534</td><td>13176  </td><td>8      </td><td>1      </td><td>1      </td><td>prior  </td><td> 5     </td><td>4      </td><td>15     </td><td>28     </td></tr>\n",
       "\t<tr><td>3367565</td><td>  196  </td><td>1      </td><td>1      </td><td>1      </td><td>prior  </td><td> 6     </td><td>2      </td><td> 7     </td><td>19     </td></tr>\n",
       "\t<tr><td>3367565</td><td>12427  </td><td>2      </td><td>1      </td><td>1      </td><td>prior  </td><td> 6     </td><td>2      </td><td> 7     </td><td>19     </td></tr>\n",
       "\t<tr><td>3367565</td><td>10258  </td><td>3      </td><td>1      </td><td>1      </td><td>prior  </td><td> 6     </td><td>2      </td><td> 7     </td><td>19     </td></tr>\n",
       "\t<tr><td>3367565</td><td>25133  </td><td>4      </td><td>1      </td><td>1      </td><td>prior  </td><td> 6     </td><td>2      </td><td> 7     </td><td>19     </td></tr>\n",
       "\t<tr><td> 550135</td><td>  196  </td><td>1      </td><td>1      </td><td>1      </td><td>prior  </td><td> 7     </td><td>1      </td><td> 9     </td><td>20     </td></tr>\n",
       "\t<tr><td> 550135</td><td>10258  </td><td>2      </td><td>1      </td><td>1      </td><td>prior  </td><td> 7     </td><td>1      </td><td> 9     </td><td>20     </td></tr>\n",
       "\t<tr><td> 550135</td><td>12427  </td><td>3      </td><td>1      </td><td>1      </td><td>prior  </td><td> 7     </td><td>1      </td><td> 9     </td><td>20     </td></tr>\n",
       "\t<tr><td> 550135</td><td>25133  </td><td>4      </td><td>1      </td><td>1      </td><td>prior  </td><td> 7     </td><td>1      </td><td> 9     </td><td>20     </td></tr>\n",
       "\t<tr><td> 550135</td><td>13032  </td><td>5      </td><td>1      </td><td>1      </td><td>prior  </td><td> 7     </td><td>1      </td><td> 9     </td><td>20     </td></tr>\n",
       "\t<tr><td>3108588</td><td>12427  </td><td>1      </td><td>1      </td><td>1      </td><td>prior  </td><td> 8     </td><td>1      </td><td>14     </td><td>14     </td></tr>\n",
       "\t<tr><td>3108588</td><td>  196  </td><td>2      </td><td>1      </td><td>1      </td><td>prior  </td><td> 8     </td><td>1      </td><td>14     </td><td>14     </td></tr>\n",
       "\t<tr><td>3108588</td><td>10258  </td><td>3      </td><td>1      </td><td>1      </td><td>prior  </td><td> 8     </td><td>1      </td><td>14     </td><td>14     </td></tr>\n",
       "\t<tr><td>3108588</td><td>25133  </td><td>4      </td><td>1      </td><td>1      </td><td>prior  </td><td> 8     </td><td>1      </td><td>14     </td><td>14     </td></tr>\n",
       "\t<tr><td>3108588</td><td>46149  </td><td>5      </td><td>0      </td><td>1      </td><td>prior  </td><td> 8     </td><td>1      </td><td>14     </td><td>14     </td></tr>\n",
       "\t<tr><td>3108588</td><td>49235  </td><td>6      </td><td>0      </td><td>1      </td><td>prior  </td><td> 8     </td><td>1      </td><td>14     </td><td>14     </td></tr>\n",
       "\t<tr><td>2295261</td><td>49235  </td><td>1      </td><td>1      </td><td>1      </td><td>prior  </td><td> 9     </td><td>1      </td><td>16     </td><td> 0     </td></tr>\n",
       "\t<tr><td>2295261</td><td>46149  </td><td>2      </td><td>1      </td><td>1      </td><td>prior  </td><td> 9     </td><td>1      </td><td>16     </td><td> 0     </td></tr>\n",
       "\t<tr><td>2295261</td><td>25133  </td><td>3      </td><td>1      </td><td>1      </td><td>prior  </td><td> 9     </td><td>1      </td><td>16     </td><td> 0     </td></tr>\n",
       "\t<tr><td>2295261</td><td>  196  </td><td>4      </td><td>1      </td><td>1      </td><td>prior  </td><td> 9     </td><td>1      </td><td>16     </td><td> 0     </td></tr>\n",
       "\t<tr><td>2295261</td><td>10258  </td><td>5      </td><td>1      </td><td>1      </td><td>prior  </td><td> 9     </td><td>1      </td><td>16     </td><td> 0     </td></tr>\n",
       "\t<tr><td>2295261</td><td>12427  </td><td>6      </td><td>1      </td><td>1      </td><td>prior  </td><td> 9     </td><td>1      </td><td>16     </td><td> 0     </td></tr>\n",
       "\t<tr><td>2550362</td><td>  196  </td><td>1      </td><td>1      </td><td>1      </td><td>prior  </td><td>10     </td><td>4      </td><td> 8     </td><td>30     </td></tr>\n",
       "\t<tr><td>2550362</td><td>46149  </td><td>2      </td><td>1      </td><td>1      </td><td>prior  </td><td>10     </td><td>4      </td><td> 8     </td><td>30     </td></tr>\n",
       "\t<tr><td>2550362</td><td>39657  </td><td>3      </td><td>0      </td><td>1      </td><td>prior  </td><td>10     </td><td>4      </td><td> 8     </td><td>30     </td></tr>\n",
       "\t<tr><td>2550362</td><td>38928  </td><td>4      </td><td>0      </td><td>1      </td><td>prior  </td><td>10     </td><td>4      </td><td> 8     </td><td>30     </td></tr>\n",
       "\t<tr><td>2550362</td><td>25133  </td><td>5      </td><td>1      </td><td>1      </td><td>prior  </td><td>10     </td><td>4      </td><td> 8     </td><td>30     </td></tr>\n",
       "\t<tr><td>2550362</td><td>10258  </td><td>6      </td><td>1      </td><td>1      </td><td>prior  </td><td>10     </td><td>4      </td><td> 8     </td><td>30     </td></tr>\n",
       "\t<tr><td>2550362</td><td>35951  </td><td>7      </td><td>0      </td><td>1      </td><td>prior  </td><td>10     </td><td>4      </td><td> 8     </td><td>30     </td></tr>\n",
       "\t<tr><td>2550362</td><td>13032  </td><td>8      </td><td>1      </td><td>1      </td><td>prior  </td><td>10     </td><td>4      </td><td> 8     </td><td>30     </td></tr>\n",
       "\t<tr><td>2550362</td><td>12427  </td><td>9      </td><td>1      </td><td>1      </td><td>prior  </td><td>10     </td><td>4      </td><td> 8     </td><td>30     </td></tr>\n",
       "</tbody>\n",
       "</table>\n"
      ],
      "text/latex": [
       "\\begin{tabular}{r|llllllllll}\n",
       " order\\_id & product\\_id & add\\_to\\_cart\\_order & reordered & user\\_id & eval\\_set & order\\_number & order\\_dow & order\\_hour\\_of\\_day & days\\_since\\_prior\\_order\\\\\n",
       "\\hline\n",
       "\t 2539329 &   196   & 1       & 0       & 1       & prior   &  1      & 2       &  8      & -1     \\\\\n",
       "\t 2539329 & 14084   & 2       & 0       & 1       & prior   &  1      & 2       &  8      & -1     \\\\\n",
       "\t 2539329 & 12427   & 3       & 0       & 1       & prior   &  1      & 2       &  8      & -1     \\\\\n",
       "\t 2539329 & 26088   & 4       & 0       & 1       & prior   &  1      & 2       &  8      & -1     \\\\\n",
       "\t 2539329 & 26405   & 5       & 0       & 1       & prior   &  1      & 2       &  8      & -1     \\\\\n",
       "\t 2398795 &   196   & 1       & 1       & 1       & prior   &  2      & 3       &  7      & 15     \\\\\n",
       "\t 2398795 & 10258   & 2       & 0       & 1       & prior   &  2      & 3       &  7      & 15     \\\\\n",
       "\t 2398795 & 12427   & 3       & 1       & 1       & prior   &  2      & 3       &  7      & 15     \\\\\n",
       "\t 2398795 & 13176   & 4       & 0       & 1       & prior   &  2      & 3       &  7      & 15     \\\\\n",
       "\t 2398795 & 26088   & 5       & 1       & 1       & prior   &  2      & 3       &  7      & 15     \\\\\n",
       "\t 2398795 & 13032   & 6       & 0       & 1       & prior   &  2      & 3       &  7      & 15     \\\\\n",
       "\t  473747 &   196   & 1       & 1       & 1       & prior   &  3      & 3       & 12      & 21     \\\\\n",
       "\t  473747 & 12427   & 2       & 1       & 1       & prior   &  3      & 3       & 12      & 21     \\\\\n",
       "\t  473747 & 10258   & 3       & 1       & 1       & prior   &  3      & 3       & 12      & 21     \\\\\n",
       "\t  473747 & 25133   & 4       & 0       & 1       & prior   &  3      & 3       & 12      & 21     \\\\\n",
       "\t  473747 & 30450   & 5       & 0       & 1       & prior   &  3      & 3       & 12      & 21     \\\\\n",
       "\t 2254736 &   196   & 1       & 1       & 1       & prior   &  4      & 4       &  7      & 29     \\\\\n",
       "\t 2254736 & 12427   & 2       & 1       & 1       & prior   &  4      & 4       &  7      & 29     \\\\\n",
       "\t 2254736 & 10258   & 3       & 1       & 1       & prior   &  4      & 4       &  7      & 29     \\\\\n",
       "\t 2254736 & 25133   & 4       & 1       & 1       & prior   &  4      & 4       &  7      & 29     \\\\\n",
       "\t 2254736 & 26405   & 5       & 1       & 1       & prior   &  4      & 4       &  7      & 29     \\\\\n",
       "\t  431534 &   196   & 1       & 1       & 1       & prior   &  5      & 4       & 15      & 28     \\\\\n",
       "\t  431534 & 12427   & 2       & 1       & 1       & prior   &  5      & 4       & 15      & 28     \\\\\n",
       "\t  431534 & 10258   & 3       & 1       & 1       & prior   &  5      & 4       & 15      & 28     \\\\\n",
       "\t  431534 & 25133   & 4       & 1       & 1       & prior   &  5      & 4       & 15      & 28     \\\\\n",
       "\t  431534 & 10326   & 5       & 0       & 1       & prior   &  5      & 4       & 15      & 28     \\\\\n",
       "\t  431534 & 17122   & 6       & 0       & 1       & prior   &  5      & 4       & 15      & 28     \\\\\n",
       "\t  431534 & 41787   & 7       & 0       & 1       & prior   &  5      & 4       & 15      & 28     \\\\\n",
       "\t  431534 & 13176   & 8       & 1       & 1       & prior   &  5      & 4       & 15      & 28     \\\\\n",
       "\t 3367565 &   196   & 1       & 1       & 1       & prior   &  6      & 2       &  7      & 19     \\\\\n",
       "\t 3367565 & 12427   & 2       & 1       & 1       & prior   &  6      & 2       &  7      & 19     \\\\\n",
       "\t 3367565 & 10258   & 3       & 1       & 1       & prior   &  6      & 2       &  7      & 19     \\\\\n",
       "\t 3367565 & 25133   & 4       & 1       & 1       & prior   &  6      & 2       &  7      & 19     \\\\\n",
       "\t  550135 &   196   & 1       & 1       & 1       & prior   &  7      & 1       &  9      & 20     \\\\\n",
       "\t  550135 & 10258   & 2       & 1       & 1       & prior   &  7      & 1       &  9      & 20     \\\\\n",
       "\t  550135 & 12427   & 3       & 1       & 1       & prior   &  7      & 1       &  9      & 20     \\\\\n",
       "\t  550135 & 25133   & 4       & 1       & 1       & prior   &  7      & 1       &  9      & 20     \\\\\n",
       "\t  550135 & 13032   & 5       & 1       & 1       & prior   &  7      & 1       &  9      & 20     \\\\\n",
       "\t 3108588 & 12427   & 1       & 1       & 1       & prior   &  8      & 1       & 14      & 14     \\\\\n",
       "\t 3108588 &   196   & 2       & 1       & 1       & prior   &  8      & 1       & 14      & 14     \\\\\n",
       "\t 3108588 & 10258   & 3       & 1       & 1       & prior   &  8      & 1       & 14      & 14     \\\\\n",
       "\t 3108588 & 25133   & 4       & 1       & 1       & prior   &  8      & 1       & 14      & 14     \\\\\n",
       "\t 3108588 & 46149   & 5       & 0       & 1       & prior   &  8      & 1       & 14      & 14     \\\\\n",
       "\t 3108588 & 49235   & 6       & 0       & 1       & prior   &  8      & 1       & 14      & 14     \\\\\n",
       "\t 2295261 & 49235   & 1       & 1       & 1       & prior   &  9      & 1       & 16      &  0     \\\\\n",
       "\t 2295261 & 46149   & 2       & 1       & 1       & prior   &  9      & 1       & 16      &  0     \\\\\n",
       "\t 2295261 & 25133   & 3       & 1       & 1       & prior   &  9      & 1       & 16      &  0     \\\\\n",
       "\t 2295261 &   196   & 4       & 1       & 1       & prior   &  9      & 1       & 16      &  0     \\\\\n",
       "\t 2295261 & 10258   & 5       & 1       & 1       & prior   &  9      & 1       & 16      &  0     \\\\\n",
       "\t 2295261 & 12427   & 6       & 1       & 1       & prior   &  9      & 1       & 16      &  0     \\\\\n",
       "\t 2550362 &   196   & 1       & 1       & 1       & prior   & 10      & 4       &  8      & 30     \\\\\n",
       "\t 2550362 & 46149   & 2       & 1       & 1       & prior   & 10      & 4       &  8      & 30     \\\\\n",
       "\t 2550362 & 39657   & 3       & 0       & 1       & prior   & 10      & 4       &  8      & 30     \\\\\n",
       "\t 2550362 & 38928   & 4       & 0       & 1       & prior   & 10      & 4       &  8      & 30     \\\\\n",
       "\t 2550362 & 25133   & 5       & 1       & 1       & prior   & 10      & 4       &  8      & 30     \\\\\n",
       "\t 2550362 & 10258   & 6       & 1       & 1       & prior   & 10      & 4       &  8      & 30     \\\\\n",
       "\t 2550362 & 35951   & 7       & 0       & 1       & prior   & 10      & 4       &  8      & 30     \\\\\n",
       "\t 2550362 & 13032   & 8       & 1       & 1       & prior   & 10      & 4       &  8      & 30     \\\\\n",
       "\t 2550362 & 12427   & 9       & 1       & 1       & prior   & 10      & 4       &  8      & 30     \\\\\n",
       "\\end{tabular}\n"
      ],
      "text/markdown": [
       "\n",
       "order_id | product_id | add_to_cart_order | reordered | user_id | eval_set | order_number | order_dow | order_hour_of_day | days_since_prior_order | \n",
       "|---|---|---|---|---|---|---|---|---|---|---|---|---|---|---|---|---|---|---|---|---|---|---|---|---|---|---|---|---|---|---|---|---|---|---|---|---|---|---|---|---|---|---|---|---|---|---|---|---|---|---|---|---|---|---|---|---|---|---|\n",
       "| 2539329 |   196   | 1       | 0       | 1       | prior   |  1      | 2       |  8      | -1      | \n",
       "| 2539329 | 14084   | 2       | 0       | 1       | prior   |  1      | 2       |  8      | -1      | \n",
       "| 2539329 | 12427   | 3       | 0       | 1       | prior   |  1      | 2       |  8      | -1      | \n",
       "| 2539329 | 26088   | 4       | 0       | 1       | prior   |  1      | 2       |  8      | -1      | \n",
       "| 2539329 | 26405   | 5       | 0       | 1       | prior   |  1      | 2       |  8      | -1      | \n",
       "| 2398795 |   196   | 1       | 1       | 1       | prior   |  2      | 3       |  7      | 15      | \n",
       "| 2398795 | 10258   | 2       | 0       | 1       | prior   |  2      | 3       |  7      | 15      | \n",
       "| 2398795 | 12427   | 3       | 1       | 1       | prior   |  2      | 3       |  7      | 15      | \n",
       "| 2398795 | 13176   | 4       | 0       | 1       | prior   |  2      | 3       |  7      | 15      | \n",
       "| 2398795 | 26088   | 5       | 1       | 1       | prior   |  2      | 3       |  7      | 15      | \n",
       "| 2398795 | 13032   | 6       | 0       | 1       | prior   |  2      | 3       |  7      | 15      | \n",
       "|  473747 |   196   | 1       | 1       | 1       | prior   |  3      | 3       | 12      | 21      | \n",
       "|  473747 | 12427   | 2       | 1       | 1       | prior   |  3      | 3       | 12      | 21      | \n",
       "|  473747 | 10258   | 3       | 1       | 1       | prior   |  3      | 3       | 12      | 21      | \n",
       "|  473747 | 25133   | 4       | 0       | 1       | prior   |  3      | 3       | 12      | 21      | \n",
       "|  473747 | 30450   | 5       | 0       | 1       | prior   |  3      | 3       | 12      | 21      | \n",
       "| 2254736 |   196   | 1       | 1       | 1       | prior   |  4      | 4       |  7      | 29      | \n",
       "| 2254736 | 12427   | 2       | 1       | 1       | prior   |  4      | 4       |  7      | 29      | \n",
       "| 2254736 | 10258   | 3       | 1       | 1       | prior   |  4      | 4       |  7      | 29      | \n",
       "| 2254736 | 25133   | 4       | 1       | 1       | prior   |  4      | 4       |  7      | 29      | \n",
       "| 2254736 | 26405   | 5       | 1       | 1       | prior   |  4      | 4       |  7      | 29      | \n",
       "|  431534 |   196   | 1       | 1       | 1       | prior   |  5      | 4       | 15      | 28      | \n",
       "|  431534 | 12427   | 2       | 1       | 1       | prior   |  5      | 4       | 15      | 28      | \n",
       "|  431534 | 10258   | 3       | 1       | 1       | prior   |  5      | 4       | 15      | 28      | \n",
       "|  431534 | 25133   | 4       | 1       | 1       | prior   |  5      | 4       | 15      | 28      | \n",
       "|  431534 | 10326   | 5       | 0       | 1       | prior   |  5      | 4       | 15      | 28      | \n",
       "|  431534 | 17122   | 6       | 0       | 1       | prior   |  5      | 4       | 15      | 28      | \n",
       "|  431534 | 41787   | 7       | 0       | 1       | prior   |  5      | 4       | 15      | 28      | \n",
       "|  431534 | 13176   | 8       | 1       | 1       | prior   |  5      | 4       | 15      | 28      | \n",
       "| 3367565 |   196   | 1       | 1       | 1       | prior   |  6      | 2       |  7      | 19      | \n",
       "| 3367565 | 12427   | 2       | 1       | 1       | prior   |  6      | 2       |  7      | 19      | \n",
       "| 3367565 | 10258   | 3       | 1       | 1       | prior   |  6      | 2       |  7      | 19      | \n",
       "| 3367565 | 25133   | 4       | 1       | 1       | prior   |  6      | 2       |  7      | 19      | \n",
       "|  550135 |   196   | 1       | 1       | 1       | prior   |  7      | 1       |  9      | 20      | \n",
       "|  550135 | 10258   | 2       | 1       | 1       | prior   |  7      | 1       |  9      | 20      | \n",
       "|  550135 | 12427   | 3       | 1       | 1       | prior   |  7      | 1       |  9      | 20      | \n",
       "|  550135 | 25133   | 4       | 1       | 1       | prior   |  7      | 1       |  9      | 20      | \n",
       "|  550135 | 13032   | 5       | 1       | 1       | prior   |  7      | 1       |  9      | 20      | \n",
       "| 3108588 | 12427   | 1       | 1       | 1       | prior   |  8      | 1       | 14      | 14      | \n",
       "| 3108588 |   196   | 2       | 1       | 1       | prior   |  8      | 1       | 14      | 14      | \n",
       "| 3108588 | 10258   | 3       | 1       | 1       | prior   |  8      | 1       | 14      | 14      | \n",
       "| 3108588 | 25133   | 4       | 1       | 1       | prior   |  8      | 1       | 14      | 14      | \n",
       "| 3108588 | 46149   | 5       | 0       | 1       | prior   |  8      | 1       | 14      | 14      | \n",
       "| 3108588 | 49235   | 6       | 0       | 1       | prior   |  8      | 1       | 14      | 14      | \n",
       "| 2295261 | 49235   | 1       | 1       | 1       | prior   |  9      | 1       | 16      |  0      | \n",
       "| 2295261 | 46149   | 2       | 1       | 1       | prior   |  9      | 1       | 16      |  0      | \n",
       "| 2295261 | 25133   | 3       | 1       | 1       | prior   |  9      | 1       | 16      |  0      | \n",
       "| 2295261 |   196   | 4       | 1       | 1       | prior   |  9      | 1       | 16      |  0      | \n",
       "| 2295261 | 10258   | 5       | 1       | 1       | prior   |  9      | 1       | 16      |  0      | \n",
       "| 2295261 | 12427   | 6       | 1       | 1       | prior   |  9      | 1       | 16      |  0      | \n",
       "| 2550362 |   196   | 1       | 1       | 1       | prior   | 10      | 4       |  8      | 30      | \n",
       "| 2550362 | 46149   | 2       | 1       | 1       | prior   | 10      | 4       |  8      | 30      | \n",
       "| 2550362 | 39657   | 3       | 0       | 1       | prior   | 10      | 4       |  8      | 30      | \n",
       "| 2550362 | 38928   | 4       | 0       | 1       | prior   | 10      | 4       |  8      | 30      | \n",
       "| 2550362 | 25133   | 5       | 1       | 1       | prior   | 10      | 4       |  8      | 30      | \n",
       "| 2550362 | 10258   | 6       | 1       | 1       | prior   | 10      | 4       |  8      | 30      | \n",
       "| 2550362 | 35951   | 7       | 0       | 1       | prior   | 10      | 4       |  8      | 30      | \n",
       "| 2550362 | 13032   | 8       | 1       | 1       | prior   | 10      | 4       |  8      | 30      | \n",
       "| 2550362 | 12427   | 9       | 1       | 1       | prior   | 10      | 4       |  8      | 30      | \n",
       "\n",
       "\n"
      ],
      "text/plain": [
       "   order_id product_id add_to_cart_order reordered user_id eval_set\n",
       "1  2539329    196      1                 0         1       prior   \n",
       "2  2539329  14084      2                 0         1       prior   \n",
       "3  2539329  12427      3                 0         1       prior   \n",
       "4  2539329  26088      4                 0         1       prior   \n",
       "5  2539329  26405      5                 0         1       prior   \n",
       "6  2398795    196      1                 1         1       prior   \n",
       "7  2398795  10258      2                 0         1       prior   \n",
       "8  2398795  12427      3                 1         1       prior   \n",
       "9  2398795  13176      4                 0         1       prior   \n",
       "10 2398795  26088      5                 1         1       prior   \n",
       "11 2398795  13032      6                 0         1       prior   \n",
       "12  473747    196      1                 1         1       prior   \n",
       "13  473747  12427      2                 1         1       prior   \n",
       "14  473747  10258      3                 1         1       prior   \n",
       "15  473747  25133      4                 0         1       prior   \n",
       "16  473747  30450      5                 0         1       prior   \n",
       "17 2254736    196      1                 1         1       prior   \n",
       "18 2254736  12427      2                 1         1       prior   \n",
       "19 2254736  10258      3                 1         1       prior   \n",
       "20 2254736  25133      4                 1         1       prior   \n",
       "21 2254736  26405      5                 1         1       prior   \n",
       "22  431534    196      1                 1         1       prior   \n",
       "23  431534  12427      2                 1         1       prior   \n",
       "24  431534  10258      3                 1         1       prior   \n",
       "25  431534  25133      4                 1         1       prior   \n",
       "26  431534  10326      5                 0         1       prior   \n",
       "27  431534  17122      6                 0         1       prior   \n",
       "28  431534  41787      7                 0         1       prior   \n",
       "29  431534  13176      8                 1         1       prior   \n",
       "30 3367565    196      1                 1         1       prior   \n",
       "31 3367565  12427      2                 1         1       prior   \n",
       "32 3367565  10258      3                 1         1       prior   \n",
       "33 3367565  25133      4                 1         1       prior   \n",
       "34  550135    196      1                 1         1       prior   \n",
       "35  550135  10258      2                 1         1       prior   \n",
       "36  550135  12427      3                 1         1       prior   \n",
       "37  550135  25133      4                 1         1       prior   \n",
       "38  550135  13032      5                 1         1       prior   \n",
       "39 3108588  12427      1                 1         1       prior   \n",
       "40 3108588    196      2                 1         1       prior   \n",
       "41 3108588  10258      3                 1         1       prior   \n",
       "42 3108588  25133      4                 1         1       prior   \n",
       "43 3108588  46149      5                 0         1       prior   \n",
       "44 3108588  49235      6                 0         1       prior   \n",
       "45 2295261  49235      1                 1         1       prior   \n",
       "46 2295261  46149      2                 1         1       prior   \n",
       "47 2295261  25133      3                 1         1       prior   \n",
       "48 2295261    196      4                 1         1       prior   \n",
       "49 2295261  10258      5                 1         1       prior   \n",
       "50 2295261  12427      6                 1         1       prior   \n",
       "51 2550362    196      1                 1         1       prior   \n",
       "52 2550362  46149      2                 1         1       prior   \n",
       "53 2550362  39657      3                 0         1       prior   \n",
       "54 2550362  38928      4                 0         1       prior   \n",
       "55 2550362  25133      5                 1         1       prior   \n",
       "56 2550362  10258      6                 1         1       prior   \n",
       "57 2550362  35951      7                 0         1       prior   \n",
       "58 2550362  13032      8                 1         1       prior   \n",
       "59 2550362  12427      9                 1         1       prior   \n",
       "   order_number order_dow order_hour_of_day days_since_prior_order\n",
       "1   1           2          8                -1                    \n",
       "2   1           2          8                -1                    \n",
       "3   1           2          8                -1                    \n",
       "4   1           2          8                -1                    \n",
       "5   1           2          8                -1                    \n",
       "6   2           3          7                15                    \n",
       "7   2           3          7                15                    \n",
       "8   2           3          7                15                    \n",
       "9   2           3          7                15                    \n",
       "10  2           3          7                15                    \n",
       "11  2           3          7                15                    \n",
       "12  3           3         12                21                    \n",
       "13  3           3         12                21                    \n",
       "14  3           3         12                21                    \n",
       "15  3           3         12                21                    \n",
       "16  3           3         12                21                    \n",
       "17  4           4          7                29                    \n",
       "18  4           4          7                29                    \n",
       "19  4           4          7                29                    \n",
       "20  4           4          7                29                    \n",
       "21  4           4          7                29                    \n",
       "22  5           4         15                28                    \n",
       "23  5           4         15                28                    \n",
       "24  5           4         15                28                    \n",
       "25  5           4         15                28                    \n",
       "26  5           4         15                28                    \n",
       "27  5           4         15                28                    \n",
       "28  5           4         15                28                    \n",
       "29  5           4         15                28                    \n",
       "30  6           2          7                19                    \n",
       "31  6           2          7                19                    \n",
       "32  6           2          7                19                    \n",
       "33  6           2          7                19                    \n",
       "34  7           1          9                20                    \n",
       "35  7           1          9                20                    \n",
       "36  7           1          9                20                    \n",
       "37  7           1          9                20                    \n",
       "38  7           1          9                20                    \n",
       "39  8           1         14                14                    \n",
       "40  8           1         14                14                    \n",
       "41  8           1         14                14                    \n",
       "42  8           1         14                14                    \n",
       "43  8           1         14                14                    \n",
       "44  8           1         14                14                    \n",
       "45  9           1         16                 0                    \n",
       "46  9           1         16                 0                    \n",
       "47  9           1         16                 0                    \n",
       "48  9           1         16                 0                    \n",
       "49  9           1         16                 0                    \n",
       "50  9           1         16                 0                    \n",
       "51 10           4          8                30                    \n",
       "52 10           4          8                30                    \n",
       "53 10           4          8                30                    \n",
       "54 10           4          8                30                    \n",
       "55 10           4          8                30                    \n",
       "56 10           4          8                30                    \n",
       "57 10           4          8                30                    \n",
       "58 10           4          8                30                    \n",
       "59 10           4          8                30                    "
      ]
     },
     "metadata": {},
     "output_type": "display_data"
    }
   ],
   "source": [
    "prior_train_orders[user_id==1]"
   ]
  },
  {
   "cell_type": "code",
   "execution_count": 27,
   "metadata": {
    "collapsed": false
   },
   "outputs": [],
   "source": [
    "setorderv(train_orders,\"order_number\")"
   ]
  },
  {
   "cell_type": "code",
   "execution_count": 28,
   "metadata": {
    "collapsed": false
   },
   "outputs": [
    {
     "data": {
      "text/html": [
       "<table>\n",
       "<thead><tr><th scope=col>order_id</th><th scope=col>product_id</th><th scope=col>add_to_cart_order</th><th scope=col>reordered</th><th scope=col>user_id</th><th scope=col>eval_set</th><th scope=col>order_number</th><th scope=col>order_dow</th><th scope=col>order_hour_of_day</th><th scope=col>days_since_prior_order</th></tr></thead>\n",
       "<tbody>\n",
       "\t<tr><td>1187899</td><td>  196  </td><td> 1     </td><td>1      </td><td>1      </td><td>train  </td><td>11     </td><td>4      </td><td>8      </td><td>14     </td></tr>\n",
       "\t<tr><td>1187899</td><td>25133  </td><td> 2     </td><td>1      </td><td>1      </td><td>train  </td><td>11     </td><td>4      </td><td>8      </td><td>14     </td></tr>\n",
       "\t<tr><td>1187899</td><td>38928  </td><td> 3     </td><td>1      </td><td>1      </td><td>train  </td><td>11     </td><td>4      </td><td>8      </td><td>14     </td></tr>\n",
       "\t<tr><td>1187899</td><td>26405  </td><td> 4     </td><td>1      </td><td>1      </td><td>train  </td><td>11     </td><td>4      </td><td>8      </td><td>14     </td></tr>\n",
       "\t<tr><td>1187899</td><td>39657  </td><td> 5     </td><td>1      </td><td>1      </td><td>train  </td><td>11     </td><td>4      </td><td>8      </td><td>14     </td></tr>\n",
       "\t<tr><td>1187899</td><td>10258  </td><td> 6     </td><td>1      </td><td>1      </td><td>train  </td><td>11     </td><td>4      </td><td>8      </td><td>14     </td></tr>\n",
       "\t<tr><td>1187899</td><td>13032  </td><td> 7     </td><td>1      </td><td>1      </td><td>train  </td><td>11     </td><td>4      </td><td>8      </td><td>14     </td></tr>\n",
       "\t<tr><td>1187899</td><td>26088  </td><td> 8     </td><td>1      </td><td>1      </td><td>train  </td><td>11     </td><td>4      </td><td>8      </td><td>14     </td></tr>\n",
       "\t<tr><td>1187899</td><td>27845  </td><td> 9     </td><td>0      </td><td>1      </td><td>train  </td><td>11     </td><td>4      </td><td>8      </td><td>14     </td></tr>\n",
       "\t<tr><td>1187899</td><td>49235  </td><td>10     </td><td>1      </td><td>1      </td><td>train  </td><td>11     </td><td>4      </td><td>8      </td><td>14     </td></tr>\n",
       "\t<tr><td>1187899</td><td>46149  </td><td>11     </td><td>1      </td><td>1      </td><td>train  </td><td>11     </td><td>4      </td><td>8      </td><td>14     </td></tr>\n",
       "</tbody>\n",
       "</table>\n"
      ],
      "text/latex": [
       "\\begin{tabular}{r|llllllllll}\n",
       " order\\_id & product\\_id & add\\_to\\_cart\\_order & reordered & user\\_id & eval\\_set & order\\_number & order\\_dow & order\\_hour\\_of\\_day & days\\_since\\_prior\\_order\\\\\n",
       "\\hline\n",
       "\t 1187899 &   196   &  1      & 1       & 1       & train   & 11      & 4       & 8       & 14     \\\\\n",
       "\t 1187899 & 25133   &  2      & 1       & 1       & train   & 11      & 4       & 8       & 14     \\\\\n",
       "\t 1187899 & 38928   &  3      & 1       & 1       & train   & 11      & 4       & 8       & 14     \\\\\n",
       "\t 1187899 & 26405   &  4      & 1       & 1       & train   & 11      & 4       & 8       & 14     \\\\\n",
       "\t 1187899 & 39657   &  5      & 1       & 1       & train   & 11      & 4       & 8       & 14     \\\\\n",
       "\t 1187899 & 10258   &  6      & 1       & 1       & train   & 11      & 4       & 8       & 14     \\\\\n",
       "\t 1187899 & 13032   &  7      & 1       & 1       & train   & 11      & 4       & 8       & 14     \\\\\n",
       "\t 1187899 & 26088   &  8      & 1       & 1       & train   & 11      & 4       & 8       & 14     \\\\\n",
       "\t 1187899 & 27845   &  9      & 0       & 1       & train   & 11      & 4       & 8       & 14     \\\\\n",
       "\t 1187899 & 49235   & 10      & 1       & 1       & train   & 11      & 4       & 8       & 14     \\\\\n",
       "\t 1187899 & 46149   & 11      & 1       & 1       & train   & 11      & 4       & 8       & 14     \\\\\n",
       "\\end{tabular}\n"
      ],
      "text/markdown": [
       "\n",
       "order_id | product_id | add_to_cart_order | reordered | user_id | eval_set | order_number | order_dow | order_hour_of_day | days_since_prior_order | \n",
       "|---|---|---|---|---|---|---|---|---|---|---|\n",
       "| 1187899 |   196   |  1      | 1       | 1       | train   | 11      | 4       | 8       | 14      | \n",
       "| 1187899 | 25133   |  2      | 1       | 1       | train   | 11      | 4       | 8       | 14      | \n",
       "| 1187899 | 38928   |  3      | 1       | 1       | train   | 11      | 4       | 8       | 14      | \n",
       "| 1187899 | 26405   |  4      | 1       | 1       | train   | 11      | 4       | 8       | 14      | \n",
       "| 1187899 | 39657   |  5      | 1       | 1       | train   | 11      | 4       | 8       | 14      | \n",
       "| 1187899 | 10258   |  6      | 1       | 1       | train   | 11      | 4       | 8       | 14      | \n",
       "| 1187899 | 13032   |  7      | 1       | 1       | train   | 11      | 4       | 8       | 14      | \n",
       "| 1187899 | 26088   |  8      | 1       | 1       | train   | 11      | 4       | 8       | 14      | \n",
       "| 1187899 | 27845   |  9      | 0       | 1       | train   | 11      | 4       | 8       | 14      | \n",
       "| 1187899 | 49235   | 10      | 1       | 1       | train   | 11      | 4       | 8       | 14      | \n",
       "| 1187899 | 46149   | 11      | 1       | 1       | train   | 11      | 4       | 8       | 14      | \n",
       "\n",
       "\n"
      ],
      "text/plain": [
       "   order_id product_id add_to_cart_order reordered user_id eval_set\n",
       "1  1187899    196       1                1         1       train   \n",
       "2  1187899  25133       2                1         1       train   \n",
       "3  1187899  38928       3                1         1       train   \n",
       "4  1187899  26405       4                1         1       train   \n",
       "5  1187899  39657       5                1         1       train   \n",
       "6  1187899  10258       6                1         1       train   \n",
       "7  1187899  13032       7                1         1       train   \n",
       "8  1187899  26088       8                1         1       train   \n",
       "9  1187899  27845       9                0         1       train   \n",
       "10 1187899  49235      10                1         1       train   \n",
       "11 1187899  46149      11                1         1       train   \n",
       "   order_number order_dow order_hour_of_day days_since_prior_order\n",
       "1  11           4         8                 14                    \n",
       "2  11           4         8                 14                    \n",
       "3  11           4         8                 14                    \n",
       "4  11           4         8                 14                    \n",
       "5  11           4         8                 14                    \n",
       "6  11           4         8                 14                    \n",
       "7  11           4         8                 14                    \n",
       "8  11           4         8                 14                    \n",
       "9  11           4         8                 14                    \n",
       "10 11           4         8                 14                    \n",
       "11 11           4         8                 14                    "
      ]
     },
     "metadata": {},
     "output_type": "display_data"
    }
   ],
   "source": [
    "train_orders[user_id==1]"
   ]
  },
  {
   "cell_type": "markdown",
   "metadata": {},
   "source": [
    "We See that, for user_id = 1, 10 of the prior orders are present in prior_order dataset and the 11th order in train data. Let's combine these two to get our train dataset.\n",
    "\n",
    "Also,\n",
    "\n",
    "Reordered colomn will tell us if the product is begin ordered for the first time or not.\n",
    "\n",
    "order number will give us the sequence of order\n",
    "\n",
    "add_to_cart_order gives us the sequence by which the product is added to cart"
   ]
  },
  {
   "cell_type": "code",
   "execution_count": null,
   "metadata": {
    "collapsed": false
   },
   "outputs": [],
   "source": []
  },
  {
   "cell_type": "code",
   "execution_count": 31,
   "metadata": {
    "collapsed": false
   },
   "outputs": [],
   "source": [
    "# append prior_in_train and train_orders\n",
    "#train_prior_orders <- rbindlist(list(prior_in_train,train_orders),use.names=TRUE)"
   ]
  },
  {
   "cell_type": "code",
   "execution_count": null,
   "metadata": {
    "collapsed": false
   },
   "outputs": [],
   "source": []
  },
  {
   "cell_type": "code",
   "execution_count": null,
   "metadata": {
    "collapsed": false
   },
   "outputs": [],
   "source": [
    "# perpare test data\n",
    "#test_orders <- orders[eval_set=='test']"
   ]
  },
  {
   "cell_type": "code",
   "execution_count": 40,
   "metadata": {
    "collapsed": false
   },
   "outputs": [],
   "source": [
    "#prior_test_orders = prior_orders[user_id %in% unique(test_orders$user_id)]"
   ]
  },
  {
   "cell_type": "code",
   "execution_count": 41,
   "metadata": {
    "collapsed": true
   },
   "outputs": [],
   "source": [
    "#prior_test_order_details = merge(prior_test_orders,goods,x.all=TRUE,by='product_id')"
   ]
  },
  {
   "cell_type": "code",
   "execution_count": null,
   "metadata": {
    "collapsed": false
   },
   "outputs": [],
   "source": [
    "write.csv('test_orders.csv')"
   ]
  },
  {
   "cell_type": "code",
   "execution_count": 2,
   "metadata": {
    "collapsed": false
   },
   "outputs": [
    {
     "name": "stdout",
     "output_type": "stream",
     "text": [
      "\r",
      "Read 0.0% of 22026608 rows\r",
      "Read 3.6% of 22026608 rows\r",
      "Read 7.0% of 22026608 rows\r",
      "Read 10.9% of 22026608 rows\r",
      "Read 14.8% of 22026608 rows\r",
      "Read 18.8% of 22026608 rows\r",
      "Read 22.6% of 22026608 rows\r",
      "Read 25.5% of 22026608 rows\r",
      "Read 28.0% of 22026608 rows\r",
      "Read 30.4% of 22026608 rows\r",
      "Read 32.6% of 22026608 rows\r",
      "Read 35.8% of 22026608 rows\r",
      "Read 39.1% of 22026608 rows\r",
      "Read 41.9% of 22026608 rows\r",
      "Read 44.9% of 22026608 rows\r",
      "Read 48.1% of 22026608 rows\r",
      "Read 51.2% of 22026608 rows\r",
      "Read 54.6% of 22026608 rows\r",
      "Read 57.5% of 22026608 rows\r",
      "Read 61.1% of 22026608 rows\r",
      "Read 64.3% of 22026608 rows\r",
      "Read 67.9% of 22026608 rows\r",
      "Read 71.3% of 22026608 rows\r",
      "Read 74.6% of 22026608 rows\r",
      "Read 78.0% of 22026608 rows\r",
      "Read 81.4% of 22026608 rows\r",
      "Read 85.1% of 22026608 rows\r",
      "Read 88.7% of 22026608 rows\r",
      "Read 92.2% of 22026608 rows\r",
      "Read 95.5% of 22026608 rows\r",
      "Read 99.0% of 22026608 rows\r",
      "Read 22026608 rows and 15 (of 15) columns from 1.988 GB file in 00:01:28\n"
     ]
    }
   ],
   "source": [
    "train=fread('train.csv')"
   ]
  },
  {
   "cell_type": "code",
   "execution_count": 4,
   "metadata": {
    "collapsed": false
   },
   "outputs": [
    {
     "name": "stdout",
     "output_type": "stream",
     "text": [
      "\r",
      "Read 0.0% of 11792498 rows\r",
      "Read 8.5% of 11792498 rows\r",
      "Read 15.3% of 11792498 rows\r",
      "Read 22.5% of 11792498 rows\r",
      "Read 28.1% of 11792498 rows\r",
      "Read 35.7% of 11792498 rows\r",
      "Read 43.7% of 11792498 rows\r",
      "Read 50.5% of 11792498 rows\r",
      "Read 58.7% of 11792498 rows\r",
      "Read 66.9% of 11792498 rows\r",
      "Read 74.4% of 11792498 rows\r",
      "Read 81.1% of 11792498 rows\r",
      "Read 84.9% of 11792498 rows\r",
      "Read 91.2% of 11792498 rows\r",
      "Read 97.6% of 11792498 rows\r",
      "Read 11792498 rows and 15 (of 15) columns from 1.064 GB file in 00:00:33\n"
     ]
    }
   ],
   "source": [
    "prior_test_order_details = fread('prior_test_order_details.csv')"
   ]
  },
  {
   "cell_type": "code",
   "execution_count": 2,
   "metadata": {
    "collapsed": false
   },
   "outputs": [
    {
     "name": "stdout",
     "output_type": "stream",
     "text": [
      "\r",
      "Read 0.0% of 11792498 rows\r",
      "Read 8.6% of 11792498 rows\r",
      "Read 16.5% of 11792498 rows\r",
      "Read 25.0% of 11792498 rows\r",
      "Read 33.0% of 11792498 rows\r",
      "Read 39.6% of 11792498 rows\r",
      "Read 47.7% of 11792498 rows\r",
      "Read 55.2% of 11792498 rows\r",
      "Read 62.5% of 11792498 rows\r",
      "Read 70.6% of 11792498 rows\r",
      "Read 75.7% of 11792498 rows\r",
      "Read 81.2% of 11792498 rows\r",
      "Read 87.5% of 11792498 rows\r",
      "Read 94.9% of 11792498 rows\r",
      "Read 11792498 rows and 15 (of 15) columns from 1.064 GB file in 00:00:17\n"
     ]
    }
   ],
   "source": [
    "prior_train_order_details = fread('prior_test_order_details.csv')"
   ]
  },
  {
   "cell_type": "markdown",
   "metadata": {
    "collapsed": false
   },
   "source": [
    "Association Analysis"
   ]
  },
  {
   "cell_type": "code",
   "execution_count": 7,
   "metadata": {
    "collapsed": false
   },
   "outputs": [
    {
     "data": {
      "text/html": [
       "<table>\n",
       "<thead><tr><th scope=col>order_id</th><th scope=col>product_id</th><th scope=col>add_to_cart_order</th><th scope=col>reordered</th><th scope=col>user_id</th><th scope=col>eval_set</th><th scope=col>order_number</th><th scope=col>order_dow</th><th scope=col>order_hour_of_day</th><th scope=col>days_since_prior_order</th><th scope=col>product_name</th><th scope=col>aisle_id</th><th scope=col>department_id</th><th scope=col>department</th><th scope=col>aisle</th></tr></thead>\n",
       "<tbody>\n",
       "\t<tr><td>13                                 </td><td>17330                              </td><td>1                                  </td><td>0                                  </td><td>45082                              </td><td>prior                              </td><td>2                                  </td><td>6                                  </td><td>17                                 </td><td>1                                  </td><td>light                              </td><td> 27                                </td><td> 5                                 </td><td>alcohol                            </td><td>beers coolers                      </td></tr>\n",
       "\t<tr><td>13                                 </td><td>27407                              </td><td>2                                  </td><td>0                                  </td><td>45082                              </td><td>prior                              </td><td>2                                  </td><td>6                                  </td><td>17                                 </td><td>1                                  </td><td>chunky_salsa_medium                </td><td> 51                                </td><td>13                                 </td><td>pantry                             </td><td>preserved dips spreads             </td></tr>\n",
       "\t<tr><td>13                                 </td><td>35419                              </td><td>3                                  </td><td>0                                  </td><td>45082                              </td><td>prior                              </td><td>2                                  </td><td>6                                  </td><td>17                                 </td><td>1                                  </td><td>handmade_vodka_from_austin,_texas  </td><td>124                                </td><td> 5                                 </td><td>alcohol                            </td><td>spirits                            </td></tr>\n",
       "\t<tr><td>13                                 </td><td>  196                              </td><td>4                                  </td><td>0                                  </td><td>45082                              </td><td>prior                              </td><td>2                                  </td><td>6                                  </td><td>17                                 </td><td>1                                  </td><td>soda                               </td><td> 77                                </td><td> 7                                 </td><td>beverages                          </td><td>soft drinks                        </td></tr>\n",
       "\t<tr><td>13                                 </td><td>44635                              </td><td>5                                  </td><td>0                                  </td><td>45082                              </td><td>prior                              </td><td>2                                  </td><td>6                                  </td><td>17                                 </td><td>1                                  </td><td>salsa_con_queso_medium_dip         </td><td> 51                                </td><td>13                                 </td><td>pantry                             </td><td>preserved dips spreads             </td></tr>\n",
       "\t<tr><td>13                                 </td><td>26878                              </td><td>6                                  </td><td>0                                  </td><td>45082                              </td><td>prior                              </td><td>2                                  </td><td>6                                  </td><td>17                                 </td><td>1                                  </td><td>g_series_lime_cucumber_sports_drink</td><td> 64                                </td><td> 7                                 </td><td>beverages                          </td><td>energy sports drinks               </td></tr>\n",
       "</tbody>\n",
       "</table>\n"
      ],
      "text/latex": [
       "\\begin{tabular}{r|lllllllllllllll}\n",
       " order\\_id & product\\_id & add\\_to\\_cart\\_order & reordered & user\\_id & eval\\_set & order\\_number & order\\_dow & order\\_hour\\_of\\_day & days\\_since\\_prior\\_order & product\\_name & aisle\\_id & department\\_id & department & aisle\\\\\n",
       "\\hline\n",
       "\t 13                                  & 17330                               & 1                                   & 0                                   & 45082                               & prior                               & 2                                   & 6                                   & 17                                  & 1                                   & light                               &  27                                 &  5                                  & alcohol                             & beers coolers                      \\\\\n",
       "\t 13                                      & 27407                                   & 2                                       & 0                                       & 45082                                   & prior                                   & 2                                       & 6                                       & 17                                      & 1                                       & chunky\\_salsa\\_medium                 &  51                                     & 13                                      & pantry                                  & preserved dips spreads                 \\\\\n",
       "\t 13                                          & 35419                                       & 3                                           & 0                                           & 45082                                       & prior                                       & 2                                           & 6                                           & 17                                          & 1                                           & handmade\\_vodka\\_from\\_austin,\\_texas   & 124                                         &  5                                          & alcohol                                     & spirits                                    \\\\\n",
       "\t 13                                  &   196                               & 4                                   & 0                                   & 45082                               & prior                               & 2                                   & 6                                   & 17                                  & 1                                   & soda                                &  77                                 &  7                                  & beverages                           & soft drinks                        \\\\\n",
       "\t 13                                          & 44635                                       & 5                                           & 0                                           & 45082                                       & prior                                       & 2                                           & 6                                           & 17                                          & 1                                           & salsa\\_con\\_queso\\_medium\\_dip          &  51                                         & 13                                          & pantry                                      & preserved dips spreads                     \\\\\n",
       "\t 13                                            & 26878                                         & 6                                             & 0                                             & 45082                                         & prior                                         & 2                                             & 6                                             & 17                                            & 1                                             & g\\_series\\_lime\\_cucumber\\_sports\\_drink &  64                                           &  7                                            & beverages                                     & energy sports drinks                         \\\\\n",
       "\\end{tabular}\n"
      ],
      "text/markdown": [
       "\n",
       "order_id | product_id | add_to_cart_order | reordered | user_id | eval_set | order_number | order_dow | order_hour_of_day | days_since_prior_order | product_name | aisle_id | department_id | department | aisle | \n",
       "|---|---|---|---|---|---|\n",
       "| 13                                  | 17330                               | 1                                   | 0                                   | 45082                               | prior                               | 2                                   | 6                                   | 17                                  | 1                                   | light                               |  27                                 |  5                                  | alcohol                             | beers coolers                       | \n",
       "| 13                                  | 27407                               | 2                                   | 0                                   | 45082                               | prior                               | 2                                   | 6                                   | 17                                  | 1                                   | chunky_salsa_medium                 |  51                                 | 13                                  | pantry                              | preserved dips spreads              | \n",
       "| 13                                  | 35419                               | 3                                   | 0                                   | 45082                               | prior                               | 2                                   | 6                                   | 17                                  | 1                                   | handmade_vodka_from_austin,_texas   | 124                                 |  5                                  | alcohol                             | spirits                             | \n",
       "| 13                                  |   196                               | 4                                   | 0                                   | 45082                               | prior                               | 2                                   | 6                                   | 17                                  | 1                                   | soda                                |  77                                 |  7                                  | beverages                           | soft drinks                         | \n",
       "| 13                                  | 44635                               | 5                                   | 0                                   | 45082                               | prior                               | 2                                   | 6                                   | 17                                  | 1                                   | salsa_con_queso_medium_dip          |  51                                 | 13                                  | pantry                              | preserved dips spreads              | \n",
       "| 13                                  | 26878                               | 6                                   | 0                                   | 45082                               | prior                               | 2                                   | 6                                   | 17                                  | 1                                   | g_series_lime_cucumber_sports_drink |  64                                 |  7                                  | beverages                           | energy sports drinks                | \n",
       "\n",
       "\n"
      ],
      "text/plain": [
       "  order_id product_id add_to_cart_order reordered user_id eval_set order_number\n",
       "1 13       17330      1                 0         45082   prior    2           \n",
       "2 13       27407      2                 0         45082   prior    2           \n",
       "3 13       35419      3                 0         45082   prior    2           \n",
       "4 13         196      4                 0         45082   prior    2           \n",
       "5 13       44635      5                 0         45082   prior    2           \n",
       "6 13       26878      6                 0         45082   prior    2           \n",
       "  order_dow order_hour_of_day days_since_prior_order\n",
       "1 6         17                1                     \n",
       "2 6         17                1                     \n",
       "3 6         17                1                     \n",
       "4 6         17                1                     \n",
       "5 6         17                1                     \n",
       "6 6         17                1                     \n",
       "  product_name                        aisle_id department_id department\n",
       "1 light                                27       5            alcohol   \n",
       "2 chunky_salsa_medium                  51      13            pantry    \n",
       "3 handmade_vodka_from_austin,_texas   124       5            alcohol   \n",
       "4 soda                                 77       7            beverages \n",
       "5 salsa_con_queso_medium_dip           51      13            pantry    \n",
       "6 g_series_lime_cucumber_sports_drink  64       7            beverages \n",
       "  aisle                 \n",
       "1 beers coolers         \n",
       "2 preserved dips spreads\n",
       "3 spirits               \n",
       "4 soft drinks           \n",
       "5 preserved dips spreads\n",
       "6 energy sports drinks  "
      ]
     },
     "metadata": {},
     "output_type": "display_data"
    }
   ],
   "source": [
    "head(prior_train_order_details)"
   ]
  },
  {
   "cell_type": "code",
   "execution_count": 26,
   "metadata": {
    "collapsed": false
   },
   "outputs": [
    {
     "data": {
      "text/html": [
       "<ol class=list-inline>\n",
       "\t<li>45082</li>\n",
       "\t<li>54901</li>\n",
       "\t<li>174840</li>\n",
       "\t<li>118860</li>\n",
       "\t<li>193635</li>\n",
       "</ol>\n"
      ],
      "text/latex": [
       "\\begin{enumerate*}\n",
       "\\item 45082\n",
       "\\item 54901\n",
       "\\item 174840\n",
       "\\item 118860\n",
       "\\item 193635\n",
       "\\end{enumerate*}\n"
      ],
      "text/markdown": [
       "1. 45082\n",
       "2. 54901\n",
       "3. 174840\n",
       "4. 118860\n",
       "5. 193635\n",
       "\n",
       "\n"
      ],
      "text/plain": [
       "[1]  45082  54901 174840 118860 193635"
      ]
     },
     "metadata": {},
     "output_type": "display_data"
    }
   ],
   "source": [
    "# select 10 unique user id\n",
    "#head(unique(prior_train_order_details$user_id),5)\n",
    "#association.data = prior_train_order_details[user_id %in% head(unique(prior_train_order_details$user_id),5)]"
   ]
  },
  {
   "cell_type": "code",
   "execution_count": 3,
   "metadata": {
    "collapsed": false
   },
   "outputs": [],
   "source": [
    "association.data = prior_train_order_details[user_id %in% head(unique(prior_train_order_details$user_id),1)]"
   ]
  },
  {
   "cell_type": "code",
   "execution_count": 4,
   "metadata": {
    "collapsed": false
   },
   "outputs": [
    {
     "data": {
      "text/html": [
       "<ol class=list-inline>\n",
       "\t<li>67</li>\n",
       "\t<li>15</li>\n",
       "</ol>\n"
      ],
      "text/latex": [
       "\\begin{enumerate*}\n",
       "\\item 67\n",
       "\\item 15\n",
       "\\end{enumerate*}\n"
      ],
      "text/markdown": [
       "1. 67\n",
       "2. 15\n",
       "\n",
       "\n"
      ],
      "text/plain": [
       "[1] 67 15"
      ]
     },
     "metadata": {},
     "output_type": "display_data"
    },
    {
     "data": {
      "text/html": [
       "10"
      ],
      "text/latex": [
       "10"
      ],
      "text/markdown": [
       "10"
      ],
      "text/plain": [
       "[1] 10"
      ]
     },
     "metadata": {},
     "output_type": "display_data"
    },
    {
     "data": {
      "text/html": [
       "39"
      ],
      "text/latex": [
       "39"
      ],
      "text/markdown": [
       "39"
      ],
      "text/plain": [
       "[1] 39"
      ]
     },
     "metadata": {},
     "output_type": "display_data"
    }
   ],
   "source": [
    "dim(association.data)\n",
    "length(unique(association.data$order_id))\n",
    "length(unique(association.data$product_id))"
   ]
  },
  {
   "cell_type": "code",
   "execution_count": 302,
   "metadata": {
    "collapsed": false
   },
   "outputs": [
    {
     "data": {
      "text/html": [
       "<table>\n",
       "<thead><tr><th scope=col>order_id</th><th scope=col>product_id</th><th scope=col>add_to_cart_order</th><th scope=col>reordered</th><th scope=col>user_id</th><th scope=col>eval_set</th><th scope=col>order_number</th><th scope=col>order_dow</th><th scope=col>order_hour_of_day</th><th scope=col>days_since_prior_order</th><th scope=col>product_name</th><th scope=col>aisle_id</th><th scope=col>department_id</th><th scope=col>department</th><th scope=col>aisle</th></tr></thead>\n",
       "<tbody>\n",
       "\t<tr><td>13                                 </td><td>17330                              </td><td>1                                  </td><td>0                                  </td><td>45082                              </td><td>prior                              </td><td>2                                  </td><td>6                                  </td><td>17                                 </td><td>1                                  </td><td>light                              </td><td> 27                                </td><td> 5                                 </td><td>alcohol                            </td><td>beers coolers                      </td></tr>\n",
       "\t<tr><td>13                                 </td><td>27407                              </td><td>2                                  </td><td>0                                  </td><td>45082                              </td><td>prior                              </td><td>2                                  </td><td>6                                  </td><td>17                                 </td><td>1                                  </td><td>chunky_salsa_medium                </td><td> 51                                </td><td>13                                 </td><td>pantry                             </td><td>preserved dips spreads             </td></tr>\n",
       "\t<tr><td>13                                 </td><td>35419                              </td><td>3                                  </td><td>0                                  </td><td>45082                              </td><td>prior                              </td><td>2                                  </td><td>6                                  </td><td>17                                 </td><td>1                                  </td><td>handmade_vodka_from_austin,_texas  </td><td>124                                </td><td> 5                                 </td><td>alcohol                            </td><td>spirits                            </td></tr>\n",
       "\t<tr><td>13                                 </td><td>  196                              </td><td>4                                  </td><td>0                                  </td><td>45082                              </td><td>prior                              </td><td>2                                  </td><td>6                                  </td><td>17                                 </td><td>1                                  </td><td>soda                               </td><td> 77                                </td><td> 7                                 </td><td>beverages                          </td><td>soft drinks                        </td></tr>\n",
       "\t<tr><td>13                                 </td><td>44635                              </td><td>5                                  </td><td>0                                  </td><td>45082                              </td><td>prior                              </td><td>2                                  </td><td>6                                  </td><td>17                                 </td><td>1                                  </td><td>salsa_con_queso_medium_dip         </td><td> 51                                </td><td>13                                 </td><td>pantry                             </td><td>preserved dips spreads             </td></tr>\n",
       "\t<tr><td>13                                 </td><td>26878                              </td><td>6                                  </td><td>0                                  </td><td>45082                              </td><td>prior                              </td><td>2                                  </td><td>6                                  </td><td>17                                 </td><td>1                                  </td><td>g_series_lime_cucumber_sports_drink</td><td> 64                                </td><td> 7                                 </td><td>beverages                          </td><td>energy sports drinks               </td></tr>\n",
       "</tbody>\n",
       "</table>\n"
      ],
      "text/latex": [
       "\\begin{tabular}{r|lllllllllllllll}\n",
       " order\\_id & product\\_id & add\\_to\\_cart\\_order & reordered & user\\_id & eval\\_set & order\\_number & order\\_dow & order\\_hour\\_of\\_day & days\\_since\\_prior\\_order & product\\_name & aisle\\_id & department\\_id & department & aisle\\\\\n",
       "\\hline\n",
       "\t 13                                  & 17330                               & 1                                   & 0                                   & 45082                               & prior                               & 2                                   & 6                                   & 17                                  & 1                                   & light                               &  27                                 &  5                                  & alcohol                             & beers coolers                      \\\\\n",
       "\t 13                                      & 27407                                   & 2                                       & 0                                       & 45082                                   & prior                                   & 2                                       & 6                                       & 17                                      & 1                                       & chunky\\_salsa\\_medium                 &  51                                     & 13                                      & pantry                                  & preserved dips spreads                 \\\\\n",
       "\t 13                                          & 35419                                       & 3                                           & 0                                           & 45082                                       & prior                                       & 2                                           & 6                                           & 17                                          & 1                                           & handmade\\_vodka\\_from\\_austin,\\_texas   & 124                                         &  5                                          & alcohol                                     & spirits                                    \\\\\n",
       "\t 13                                  &   196                               & 4                                   & 0                                   & 45082                               & prior                               & 2                                   & 6                                   & 17                                  & 1                                   & soda                                &  77                                 &  7                                  & beverages                           & soft drinks                        \\\\\n",
       "\t 13                                          & 44635                                       & 5                                           & 0                                           & 45082                                       & prior                                       & 2                                           & 6                                           & 17                                          & 1                                           & salsa\\_con\\_queso\\_medium\\_dip          &  51                                         & 13                                          & pantry                                      & preserved dips spreads                     \\\\\n",
       "\t 13                                            & 26878                                         & 6                                             & 0                                             & 45082                                         & prior                                         & 2                                             & 6                                             & 17                                            & 1                                             & g\\_series\\_lime\\_cucumber\\_sports\\_drink &  64                                           &  7                                            & beverages                                     & energy sports drinks                         \\\\\n",
       "\\end{tabular}\n"
      ],
      "text/markdown": [
       "\n",
       "order_id | product_id | add_to_cart_order | reordered | user_id | eval_set | order_number | order_dow | order_hour_of_day | days_since_prior_order | product_name | aisle_id | department_id | department | aisle | \n",
       "|---|---|---|---|---|---|\n",
       "| 13                                  | 17330                               | 1                                   | 0                                   | 45082                               | prior                               | 2                                   | 6                                   | 17                                  | 1                                   | light                               |  27                                 |  5                                  | alcohol                             | beers coolers                       | \n",
       "| 13                                  | 27407                               | 2                                   | 0                                   | 45082                               | prior                               | 2                                   | 6                                   | 17                                  | 1                                   | chunky_salsa_medium                 |  51                                 | 13                                  | pantry                              | preserved dips spreads              | \n",
       "| 13                                  | 35419                               | 3                                   | 0                                   | 45082                               | prior                               | 2                                   | 6                                   | 17                                  | 1                                   | handmade_vodka_from_austin,_texas   | 124                                 |  5                                  | alcohol                             | spirits                             | \n",
       "| 13                                  |   196                               | 4                                   | 0                                   | 45082                               | prior                               | 2                                   | 6                                   | 17                                  | 1                                   | soda                                |  77                                 |  7                                  | beverages                           | soft drinks                         | \n",
       "| 13                                  | 44635                               | 5                                   | 0                                   | 45082                               | prior                               | 2                                   | 6                                   | 17                                  | 1                                   | salsa_con_queso_medium_dip          |  51                                 | 13                                  | pantry                              | preserved dips spreads              | \n",
       "| 13                                  | 26878                               | 6                                   | 0                                   | 45082                               | prior                               | 2                                   | 6                                   | 17                                  | 1                                   | g_series_lime_cucumber_sports_drink |  64                                 |  7                                  | beverages                           | energy sports drinks                | \n",
       "\n",
       "\n"
      ],
      "text/plain": [
       "  order_id product_id add_to_cart_order reordered user_id eval_set order_number\n",
       "1 13       17330      1                 0         45082   prior    2           \n",
       "2 13       27407      2                 0         45082   prior    2           \n",
       "3 13       35419      3                 0         45082   prior    2           \n",
       "4 13         196      4                 0         45082   prior    2           \n",
       "5 13       44635      5                 0         45082   prior    2           \n",
       "6 13       26878      6                 0         45082   prior    2           \n",
       "  order_dow order_hour_of_day days_since_prior_order\n",
       "1 6         17                1                     \n",
       "2 6         17                1                     \n",
       "3 6         17                1                     \n",
       "4 6         17                1                     \n",
       "5 6         17                1                     \n",
       "6 6         17                1                     \n",
       "  product_name                        aisle_id department_id department\n",
       "1 light                                27       5            alcohol   \n",
       "2 chunky_salsa_medium                  51      13            pantry    \n",
       "3 handmade_vodka_from_austin,_texas   124       5            alcohol   \n",
       "4 soda                                 77       7            beverages \n",
       "5 salsa_con_queso_medium_dip           51      13            pantry    \n",
       "6 g_series_lime_cucumber_sports_drink  64       7            beverages \n",
       "  aisle                 \n",
       "1 beers coolers         \n",
       "2 preserved dips spreads\n",
       "3 spirits               \n",
       "4 soft drinks           \n",
       "5 preserved dips spreads\n",
       "6 energy sports drinks  "
      ]
     },
     "metadata": {},
     "output_type": "display_data"
    }
   ],
   "source": [
    "head(association.data)"
   ]
  },
  {
   "cell_type": "markdown",
   "metadata": {
    "collapsed": false
   },
   "source": [
    "Approach 1, single format file with order_id and product_name columns"
   ]
  },
  {
   "cell_type": "code",
   "execution_count": 87,
   "metadata": {
    "collapsed": false
   },
   "outputs": [
    {
     "data": {
      "text/html": [
       "<ol class=list-inline>\n",
       "\t<li>67</li>\n",
       "\t<li>2</li>\n",
       "</ol>\n"
      ],
      "text/latex": [
       "\\begin{enumerate*}\n",
       "\\item 67\n",
       "\\item 2\n",
       "\\end{enumerate*}\n"
      ],
      "text/markdown": [
       "1. 67\n",
       "2. 2\n",
       "\n",
       "\n"
      ],
      "text/plain": [
       "[1] 67  2"
      ]
     },
     "metadata": {},
     "output_type": "display_data"
    },
    {
     "data": {
      "text/html": [
       "<ol class=list-inline>\n",
       "\t<li>67</li>\n",
       "\t<li>2</li>\n",
       "</ol>\n"
      ],
      "text/latex": [
       "\\begin{enumerate*}\n",
       "\\item 67\n",
       "\\item 2\n",
       "\\end{enumerate*}\n"
      ],
      "text/markdown": [
       "1. 67\n",
       "2. 2\n",
       "\n",
       "\n"
      ],
      "text/plain": [
       "[1] 67  2"
      ]
     },
     "metadata": {},
     "output_type": "display_data"
    }
   ],
   "source": [
    "df = association.data[,c(\"order_id\",\"product_name\")]\n",
    "dim(df)\n",
    "df=unique(df)\n",
    "dim(df)\n",
    "df$product_name = as.factor(df$product_name)"
   ]
  },
  {
   "cell_type": "code",
   "execution_count": 65,
   "metadata": {
    "collapsed": false
   },
   "outputs": [],
   "source": [
    "txn = as(split(df$product_name, df$order_id), \"transactions\")\n",
    "#write.csv(df,'test1.csv',row.names=FALSE)\n",
    "#txn = read.transactions('test1.csv',format='single',sep=',', cols = c(1,2))"
   ]
  },
  {
   "cell_type": "code",
   "execution_count": 66,
   "metadata": {
    "collapsed": false
   },
   "outputs": [
    {
     "name": "stdout",
     "output_type": "stream",
     "text": [
      "     items                                                 transactionID\n",
      "[1]  {chunky_salsa_medium,                                              \n",
      "      diet_tonic_water,                                                 \n",
      "      g_series_lime_cucumber_sports_drink,                              \n",
      "      hampshire_100%_natural_sour_cream,                                \n",
      "      handmade_vodka_from_austin,_texas,                                \n",
      "      lemon_lime_thirst_quencher,                                       \n",
      "      lemonade,                                                         \n",
      "      light,                                                            \n",
      "      original_potato_chips,                                            \n",
      "      philadelphia_original_cream_cheese,                               \n",
      "      salsa_con_queso_medium_dip,                                       \n",
      "      soda,                                                             \n",
      "      sparkling_natural_mineral_water}                          13      \n",
      "[2]  {blackberries,                                                     \n",
      "      chile_habanero_hot_sauce,                                         \n",
      "      original_popcorn,                                                 \n",
      "      sriracha_chili_sauce,                                             \n",
      "      string_cheese}                                            1454345 \n",
      "[3]  {go_lean_cereal,                                                   \n",
      "      honey_nut_cheerios,                                               \n",
      "      original_nooks_&_crannies_english_muffins,                        \n",
      "      original_popcorn,                                                 \n",
      "      raisin_bran_cereal,                                               \n",
      "      royal_gala_apples}                                        154993  \n",
      "[4]  {banana,                                                           \n",
      "      blueberries,                                                      \n",
      "      deluxe_mixed_nuts,                                                \n",
      "      organic_blackberries}                                     1709273 \n",
      "[5]  {deluxe_mixed_nuts,                                                \n",
      "      pretzel_crisps_original_deli_style_pretzel_crackers,              \n",
      "      raisin_bran_cereal}                                       2552118 \n",
      "[6]  {banana,                                                           \n",
      "      berries_'n_cherries_fruit_snacks,                                 \n",
      "      blueberries,                                                      \n",
      "      coconut_sparkling_water,                                          \n",
      "      dried_banana_chips,                                               \n",
      "      honey_nut_cheerios,                                               \n",
      "      island_fruits_fruit_snacks,                                       \n",
      "      organic_blackberries,                                             \n",
      "      small_hass_avocado,                                               \n",
      "      whole_natural_value_pack_almonds}                         3117129 \n",
      "[7]  {banana,                                                           \n",
      "      berries_'n_cherries_fruit_snacks,                                 \n",
      "      coconut_sparkling_water,                                          \n",
      "      cucumber_kirby,                                                   \n",
      "      dried_banana_chips,                                               \n",
      "      honey_nut_cheerios,                                               \n",
      "      island_fruits_fruit_snacks,                                       \n",
      "      small_hass_avocado,                                               \n",
      "      whole_natural_value_pack_almonds}                         3132196 \n",
      "[8]  {blueberries,                                                      \n",
      "      organic_nectarine,                                                \n",
      "      original_nooks_&_crannies_english_muffins,                        \n",
      "      pretzel_crisps_original_deli_style_pretzel_crackers,              \n",
      "      small_hass_avocado,                                               \n",
      "      tomato_ketchup,                                                   \n",
      "      total_0%_greek_yogurt}                                    3339609 \n",
      "[9]  {go_lean_cereal,                                                   \n",
      "      honey_nut_cheerios,                                               \n",
      "      original_nooks_&_crannies_english_muffins,                        \n",
      "      original_popcorn,                                                 \n",
      "      raisin_bran_cereal,                                               \n",
      "      royal_gala_apples}                                        500509  \n",
      "[10] {organic_blackberries,                                             \n",
      "      original_nooks_&_crannies_english_muffins,                        \n",
      "      raspberries,                                                      \n",
      "      string_cheese}                                            557227  \n",
      "[11] {product_name}                                             order_id\n"
     ]
    }
   ],
   "source": [
    "inspect(txn)"
   ]
  },
  {
   "cell_type": "code",
   "execution_count": 74,
   "metadata": {
    "collapsed": false
   },
   "outputs": [
    {
     "data": {
      "text/plain": [
       "transactions as itemMatrix in sparse format with\n",
       " 11 rows (elements/itemsets/transactions) and\n",
       " 40 columns (items) and a density of 0.1545455 \n",
       "\n",
       "most frequent items:\n",
       "                       honey_nut_cheerios \n",
       "                                        4 \n",
       "original_nooks_&_crannies_english_muffins \n",
       "                                        4 \n",
       "                                   banana \n",
       "                                        3 \n",
       "                              blueberries \n",
       "                                        3 \n",
       "                     organic_blackberries \n",
       "                                        3 \n",
       "                                  (Other) \n",
       "                                       51 \n",
       "\n",
       "element (itemset/transaction) length distribution:\n",
       "sizes\n",
       " 1  3  4  5  6  7  9 10 13 \n",
       " 1  1  2  1  2  1  1  1  1 \n",
       "\n",
       "   Min. 1st Qu.  Median    Mean 3rd Qu.    Max. \n",
       "  1.000   4.000   6.000   6.182   8.000  13.000 \n",
       "\n",
       "includes extended item information - examples:\n",
       "                            labels\n",
       "1                           banana\n",
       "2 berries_'n_cherries_fruit_snacks\n",
       "3                     blackberries\n",
       "\n",
       "includes extended transaction information - examples:\n",
       "  transactionID\n",
       "1            13\n",
       "2       1454345\n",
       "3        154993"
      ]
     },
     "metadata": {},
     "output_type": "display_data"
    }
   ],
   "source": [
    "summary(txn)"
   ]
  },
  {
   "cell_type": "code",
   "execution_count": 75,
   "metadata": {
    "collapsed": false
   },
   "outputs": [
    {
     "data": {
      "image/png": "[encoded data removed]",
      "text/plain": [
       "plot without title"
      ]
     },
     "metadata": {},
     "output_type": "display_data"
    }
   ],
   "source": [
    "itemFrequencyPlot(txn)"
   ]
  },
  {
   "cell_type": "code",
   "execution_count": 76,
   "metadata": {
    "collapsed": false
   },
   "outputs": [
    {
     "name": "stdout",
     "output_type": "stream",
     "text": [
      "Apriori\n",
      "\n",
      "Parameter specification:\n",
      " confidence minval smax arem  aval originalSupport maxtime support minlen\n",
      "        0.5    0.1    1 none FALSE            TRUE       5     0.1      1\n",
      " maxlen target   ext\n",
      "      4  rules FALSE\n",
      "\n",
      "Algorithmic control:\n",
      " filter tree heap memopt load sort verbose\n",
      "    0.1 TRUE TRUE  FALSE TRUE    2    TRUE\n",
      "\n",
      "Absolute minimum support count: 1 \n",
      "\n",
      "set item appearances ...[0 item(s)] done [0.00s].\n",
      "set transactions ...[40 item(s), 11 transaction(s)] done [0.00s].\n",
      "sorting and recoding items ... [18 item(s)] done [0.00s].\n",
      "creating transaction tree ... done [0.00s].\n",
      "checking subsets of size 1 2 3 4"
     ]
    },
    {
     "name": "stderr",
     "output_type": "stream",
     "text": [
      "Warning message in apriori(txn, parameter = list(supp = 0.1, conf = 0.5, target = \"rules\", :\n",
      "\"Mining stopped (maxlen reached). Only patterns up to a length of 4 returned!\""
     ]
    },
    {
     "name": "stdout",
     "output_type": "stream",
     "text": [
      " done [0.01s].\n",
      "writing ... [665 rule(s)] done [0.00s].\n",
      "creating S4 object  ... done [0.00s].\n"
     ]
    }
   ],
   "source": [
    "rules <- apriori(txn,parameter = list(supp = 0.1, conf = 0.5, target = \"rules\",maxlen=4))"
   ]
  },
  {
   "cell_type": "code",
   "execution_count": 77,
   "metadata": {
    "collapsed": false
   },
   "outputs": [
    {
     "data": {
      "text/plain": [
       "set of 665 rules "
      ]
     },
     "metadata": {},
     "output_type": "display_data"
    }
   ],
   "source": [
    "rules"
   ]
  },
  {
   "cell_type": "code",
   "execution_count": 78,
   "metadata": {
    "collapsed": false
   },
   "outputs": [
    {
     "name": "stdout",
     "output_type": "stream",
     "text": [
      "     lhs                                   rhs                                  support confidence lift\n",
      "[1]  {royal_gala_apples}                => {go_lean_cereal}                   0.1818182          1  5.5\n",
      "[2]  {go_lean_cereal}                   => {royal_gala_apples}                0.1818182          1  5.5\n",
      "[3]  {berries_'n_cherries_fruit_snacks} => {coconut_sparkling_water}          0.1818182          1  5.5\n",
      "[4]  {coconut_sparkling_water}          => {berries_'n_cherries_fruit_snacks} 0.1818182          1  5.5\n",
      "[5]  {berries_'n_cherries_fruit_snacks} => {dried_banana_chips}               0.1818182          1  5.5\n",
      "[6]  {dried_banana_chips}               => {berries_'n_cherries_fruit_snacks} 0.1818182          1  5.5\n",
      "[7]  {berries_'n_cherries_fruit_snacks} => {island_fruits_fruit_snacks}       0.1818182          1  5.5\n",
      "[8]  {island_fruits_fruit_snacks}       => {berries_'n_cherries_fruit_snacks} 0.1818182          1  5.5\n",
      "[9]  {berries_'n_cherries_fruit_snacks} => {whole_natural_value_pack_almonds} 0.1818182          1  5.5\n",
      "[10] {whole_natural_value_pack_almonds} => {berries_'n_cherries_fruit_snacks} 0.1818182          1  5.5\n"
     ]
    }
   ],
   "source": [
    "inspect(head(sort(rules, by=\"lift\"),10));"
   ]
  },
  {
   "cell_type": "code",
   "execution_count": null,
   "metadata": {
    "collapsed": true
   },
   "outputs": [],
   "source": []
  },
  {
   "cell_type": "code",
   "execution_count": null,
   "metadata": {
    "collapsed": true
   },
   "outputs": [],
   "source": []
  },
  {
   "cell_type": "code",
   "execution_count": 16,
   "metadata": {
    "collapsed": false
   },
   "outputs": [],
   "source": [
    "col=c('order_id',levels(df$aisle))\n",
    "df=df[,lapply(levels(df$aisle), function(x) sum(aisle==x)),keyby=.(order_id)]\n",
    "colnames(df)=col"
   ]
  },
  {
   "cell_type": "code",
   "execution_count": 17,
   "metadata": {
    "collapsed": false
   },
   "outputs": [],
   "source": [
    "cols=colnames(df)\n",
    "df = df[,(cols):=lapply(.SD,as.factor),.SDcols = cols]"
   ]
  },
  {
   "cell_type": "code",
   "execution_count": 213,
   "metadata": {
    "collapsed": false
   },
   "outputs": [],
   "source": [
    "#association.data = ddply(association.data,c('order_id'),function(association.data) paste(association.data$aisle, collapse=','))"
   ]
  },
  {
   "cell_type": "code",
   "execution_count": 344,
   "metadata": {
    "collapsed": false
   },
   "outputs": [],
   "source": [
    "#df = ddply(df,c('order_id'),function(df) paste(df$aisle, collapse=','))"
   ]
  },
  {
   "cell_type": "code",
   "execution_count": 345,
   "metadata": {
    "collapsed": false
   },
   "outputs": [],
   "source": [
    "#setnames(df,'V1','department')"
   ]
  },
  {
   "cell_type": "code",
   "execution_count": null,
   "metadata": {
    "collapsed": false
   },
   "outputs": [],
   "source": []
  },
  {
   "cell_type": "code",
   "execution_count": null,
   "metadata": {
    "collapsed": false
   },
   "outputs": [],
   "source": []
  },
  {
   "cell_type": "code",
   "execution_count": null,
   "metadata": {
    "collapsed": false
   },
   "outputs": [],
   "source": []
  },
  {
   "cell_type": "code",
   "execution_count": null,
   "metadata": {
    "collapsed": false
   },
   "outputs": [],
   "source": []
  },
  {
   "cell_type": "code",
   "execution_count": null,
   "metadata": {
    "collapsed": false
   },
   "outputs": [],
   "source": []
  },
  {
   "cell_type": "code",
   "execution_count": null,
   "metadata": {
    "collapsed": false
   },
   "outputs": [],
   "source": []
  },
  {
   "cell_type": "code",
   "execution_count": null,
   "metadata": {
    "collapsed": false
   },
   "outputs": [],
   "source": []
  },
  {
   "cell_type": "code",
   "execution_count": 86,
   "metadata": {
    "collapsed": false
   },
   "outputs": [],
   "source": [
    "    "
   ]
  },
  {
   "cell_type": "code",
   "execution_count": null,
   "metadata": {
    "collapsed": false
   },
   "outputs": [],
   "source": []
  },
  {
   "cell_type": "code",
   "execution_count": null,
   "metadata": {
    "collapsed": false
   },
   "outputs": [],
   "source": []
  }
 ],
 "metadata": {
  "kernelspec": {
   "display_name": "R",
   "language": "R",
   "name": "ir"
  },
  "language_info": {
   "codemirror_mode": "r",
   "file_extension": ".r",
   "mimetype": "text/x-r-source",
   "name": "R",
   "pygments_lexer": "r",
   "version": "3.4.0"
  }
 },
 "nbformat": 4,
 "nbformat_minor": 2
}
