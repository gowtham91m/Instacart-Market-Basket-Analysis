{
 "cells": [
  {
   "cell_type": "code",
   "execution_count": 7,
   "metadata": {
    "collapsed": false
   },
   "outputs": [],
   "source": [
    "library(data.table)\n",
    "library(dtplyr)\n",
    "setwd('E:\\\\kaggle\\\\market_basket')"
   ]
  },
  {
   "cell_type": "code",
   "execution_count": 10,
   "metadata": {
    "collapsed": false
   },
   "outputs": [
    {
     "name": "stdout",
     "output_type": "stream",
     "text": [
      "Read 3421083 rows and 7 (of 7) columns from 0.101 GB file in 00:00:03\n",
      "Read 32434489 rows and 4 (of 4) columns from 0.538 GB file in 00:00:09\n"
     ]
    }
   ],
   "source": [
    "orders <- fread('orders.csv')\n",
    "products <- fread('products.csv')\n",
    "op_train <- fread('order_products__train.csv')\n",
    "op_prior <- fread('order_products__prior.csv')\n",
    "aisles <- fread('aisles.csv')\n",
    "departments <- fread('departments.csv')"
   ]
  },
  {
   "cell_type": "code",
   "execution_count": 16,
   "metadata": {
    "collapsed": false
   },
   "outputs": [],
   "source": [
    "orders$order_hour_of_day <- as.numeric(orders$order_hour_of_day)\n",
    "products$product_name <- as.factor(products$product_name)"
   ]
  },
  {
   "cell_type": "code",
   "execution_count": 17,
   "metadata": {
    "collapsed": false
   },
   "outputs": [
    {
     "data": {
      "text/html": [
       "<ol class=list-inline>\n",
       "\t<li>3421083</li>\n",
       "\t<li>7</li>\n",
       "</ol>\n"
      ],
      "text/latex": [
       "\\begin{enumerate*}\n",
       "\\item 3421083\n",
       "\\item 7\n",
       "\\end{enumerate*}\n"
      ],
      "text/markdown": [
       "1. 3421083\n",
       "2. 7\n",
       "\n",
       "\n"
      ],
      "text/plain": [
       "[1] 3421083       7"
      ]
     },
     "metadata": {},
     "output_type": "display_data"
    },
    {
     "data": {
      "text/html": [
       "<ol class=list-inline>\n",
       "\t<li>49688</li>\n",
       "\t<li>4</li>\n",
       "</ol>\n"
      ],
      "text/latex": [
       "\\begin{enumerate*}\n",
       "\\item 49688\n",
       "\\item 4\n",
       "\\end{enumerate*}\n"
      ],
      "text/markdown": [
       "1. 49688\n",
       "2. 4\n",
       "\n",
       "\n"
      ],
      "text/plain": [
       "[1] 49688     4"
      ]
     },
     "metadata": {},
     "output_type": "display_data"
    },
    {
     "data": {
      "text/html": [
       "<ol class=list-inline>\n",
       "\t<li>1384617</li>\n",
       "\t<li>4</li>\n",
       "</ol>\n"
      ],
      "text/latex": [
       "\\begin{enumerate*}\n",
       "\\item 1384617\n",
       "\\item 4\n",
       "\\end{enumerate*}\n"
      ],
      "text/markdown": [
       "1. 1384617\n",
       "2. 4\n",
       "\n",
       "\n"
      ],
      "text/plain": [
       "[1] 1384617       4"
      ]
     },
     "metadata": {},
     "output_type": "display_data"
    },
    {
     "data": {
      "text/html": [
       "<ol class=list-inline>\n",
       "\t<li>32434489</li>\n",
       "\t<li>4</li>\n",
       "</ol>\n"
      ],
      "text/latex": [
       "\\begin{enumerate*}\n",
       "\\item 32434489\n",
       "\\item 4\n",
       "\\end{enumerate*}\n"
      ],
      "text/markdown": [
       "1. 32434489\n",
       "2. 4\n",
       "\n",
       "\n"
      ],
      "text/plain": [
       "[1] 32434489        4"
      ]
     },
     "metadata": {},
     "output_type": "display_data"
    },
    {
     "data": {
      "text/html": [
       "<ol class=list-inline>\n",
       "\t<li>134</li>\n",
       "\t<li>2</li>\n",
       "</ol>\n"
      ],
      "text/latex": [
       "\\begin{enumerate*}\n",
       "\\item 134\n",
       "\\item 2\n",
       "\\end{enumerate*}\n"
      ],
      "text/markdown": [
       "1. 134\n",
       "2. 2\n",
       "\n",
       "\n"
      ],
      "text/plain": [
       "[1] 134   2"
      ]
     },
     "metadata": {},
     "output_type": "display_data"
    },
    {
     "data": {
      "text/html": [
       "<ol class=list-inline>\n",
       "\t<li>21</li>\n",
       "\t<li>2</li>\n",
       "</ol>\n"
      ],
      "text/latex": [
       "\\begin{enumerate*}\n",
       "\\item 21\n",
       "\\item 2\n",
       "\\end{enumerate*}\n"
      ],
      "text/markdown": [
       "1. 21\n",
       "2. 2\n",
       "\n",
       "\n"
      ],
      "text/plain": [
       "[1] 21  2"
      ]
     },
     "metadata": {},
     "output_type": "display_data"
    }
   ],
   "source": [
    "dim(orders)\n",
    "dim(products)\n",
    "dim(op_train)\n",
    "dim(op_prior)\n",
    "dim(aisles)\n",
    "dim(departments)"
   ]
  },
  {
   "cell_type": "code",
   "execution_count": 18,
   "metadata": {
    "collapsed": false
   },
   "outputs": [
    {
     "data": {
      "text/html": [
       "206209"
      ],
      "text/latex": [
       "206209"
      ],
      "text/markdown": [
       "206209"
      ],
      "text/plain": [
       "[1] 206209"
      ]
     },
     "metadata": {},
     "output_type": "display_data"
    },
    {
     "data": {
      "text/html": [
       "0"
      ],
      "text/latex": [
       "0"
      ],
      "text/markdown": [
       "0"
      ],
      "text/plain": [
       "[1] 0"
      ]
     },
     "metadata": {},
     "output_type": "display_data"
    },
    {
     "data": {
      "text/html": [
       "0"
      ],
      "text/latex": [
       "0"
      ],
      "text/markdown": [
       "0"
      ],
      "text/plain": [
       "[1] 0"
      ]
     },
     "metadata": {},
     "output_type": "display_data"
    },
    {
     "data": {
      "text/html": [
       "0"
      ],
      "text/latex": [
       "0"
      ],
      "text/markdown": [
       "0"
      ],
      "text/plain": [
       "[1] 0"
      ]
     },
     "metadata": {},
     "output_type": "display_data"
    },
    {
     "data": {
      "text/html": [
       "0"
      ],
      "text/latex": [
       "0"
      ],
      "text/markdown": [
       "0"
      ],
      "text/plain": [
       "[1] 0"
      ]
     },
     "metadata": {},
     "output_type": "display_data"
    },
    {
     "data": {
      "text/html": [
       "0"
      ],
      "text/latex": [
       "0"
      ],
      "text/markdown": [
       "0"
      ],
      "text/plain": [
       "[1] 0"
      ]
     },
     "metadata": {},
     "output_type": "display_data"
    }
   ],
   "source": [
    "# Number of missing values anywhere in the table\n",
    "sum(is.na(orders))\n",
    "sum(is.na(products))\n",
    "sum(is.na(op_train))\n",
    "sum(is.na(op_prior))\n",
    "sum(is.na(aisles))\n",
    "sum(is.na(departments))"
   ]
  },
  {
   "cell_type": "code",
   "execution_count": 19,
   "metadata": {
    "collapsed": false
   },
   "outputs": [
    {
     "data": {
      "text/html": [
       "<dl class=dl-horizontal>\n",
       "\t<dt>order_id</dt>\n",
       "\t\t<dd>0</dd>\n",
       "\t<dt>user_id</dt>\n",
       "\t\t<dd>0</dd>\n",
       "\t<dt>eval_set</dt>\n",
       "\t\t<dd>0</dd>\n",
       "\t<dt>order_number</dt>\n",
       "\t\t<dd>0</dd>\n",
       "\t<dt>order_dow</dt>\n",
       "\t\t<dd>0</dd>\n",
       "\t<dt>order_hour_of_day</dt>\n",
       "\t\t<dd>0</dd>\n",
       "\t<dt>days_since_prior_order</dt>\n",
       "\t\t<dd>206209</dd>\n",
       "</dl>\n"
      ],
      "text/latex": [
       "\\begin{description*}\n",
       "\\item[order\\textbackslash{}\\_id] 0\n",
       "\\item[user\\textbackslash{}\\_id] 0\n",
       "\\item[eval\\textbackslash{}\\_set] 0\n",
       "\\item[order\\textbackslash{}\\_number] 0\n",
       "\\item[order\\textbackslash{}\\_dow] 0\n",
       "\\item[order\\textbackslash{}\\_hour\\textbackslash{}\\_of\\textbackslash{}\\_day] 0\n",
       "\\item[days\\textbackslash{}\\_since\\textbackslash{}\\_prior\\textbackslash{}\\_order] 206209\n",
       "\\end{description*}\n"
      ],
      "text/markdown": [
       "order_id\n",
       ":   0user_id\n",
       ":   0eval_set\n",
       ":   0order_number\n",
       ":   0order_dow\n",
       ":   0order_hour_of_day\n",
       ":   0days_since_prior_order\n",
       ":   206209\n",
       "\n"
      ],
      "text/plain": [
       "              order_id                user_id               eval_set \n",
       "                     0                      0                      0 \n",
       "          order_number              order_dow      order_hour_of_day \n",
       "                     0                      0                      0 \n",
       "days_since_prior_order \n",
       "                206209 "
      ]
     },
     "metadata": {},
     "output_type": "display_data"
    }
   ],
   "source": [
    "sapply(orders, function(x) sum(is.na(x)))"
   ]
  },
  {
   "cell_type": "markdown",
   "metadata": {},
   "source": [
    "Only days_sine_prior_order column from Orders table have missing values"
   ]
  },
  {
   "cell_type": "code",
   "execution_count": 20,
   "metadata": {
    "collapsed": false
   },
   "outputs": [],
   "source": [
    "# Replace missing values to -1\n",
    "orders[[\"days_since_prior_order\"]][is.na(orders[[\"days_since_prior_order\"]])] <- -1"
   ]
  },
  {
   "cell_type": "code",
   "execution_count": 21,
   "metadata": {
    "collapsed": false
   },
   "outputs": [],
   "source": [
    "# combine aisles, departments and products (left joined to products)\n",
    "#goods = pd.merge(left=pd.merge(left=products, right=departments, how='left'), right=aisles, how='left')\n",
    "goods = merge(x=merge(products,departments,by = \"department_id\"), y=aisles, by = \"aisle_id\") "
   ]
  },
  {
   "cell_type": "code",
   "execution_count": 22,
   "metadata": {
    "collapsed": false
   },
   "outputs": [
    {
     "data": {
      "text/html": [
       "<ol class=list-inline>\n",
       "\t<li>49688</li>\n",
       "\t<li>6</li>\n",
       "</ol>\n"
      ],
      "text/latex": [
       "\\begin{enumerate*}\n",
       "\\item 49688\n",
       "\\item 6\n",
       "\\end{enumerate*}\n"
      ],
      "text/markdown": [
       "1. 49688\n",
       "2. 6\n",
       "\n",
       "\n"
      ],
      "text/plain": [
       "[1] 49688     6"
      ]
     },
     "metadata": {},
     "output_type": "display_data"
    }
   ],
   "source": [
    "dim(goods)"
   ]
  },
  {
   "cell_type": "code",
   "execution_count": 23,
   "metadata": {
    "collapsed": false
   },
   "outputs": [],
   "source": [
    "# Merge Orders and Order_products_train data\n",
    "train_orders = merge(op_train,orders,x.all=TRUE,by = 'order_id')"
   ]
  },
  {
   "cell_type": "code",
   "execution_count": 24,
   "metadata": {
    "collapsed": false
   },
   "outputs": [],
   "source": [
    "# Merge Orders and Order_products_prior data\n",
    "prior_orders = merge(op_prior,orders,x.all = TRUE,by='order_id')"
   ]
  },
  {
   "cell_type": "code",
   "execution_count": 25,
   "metadata": {
    "collapsed": false
   },
   "outputs": [],
   "source": [
    "setorderv(prior_orders,\"order_number\")"
   ]
  },
  {
   "cell_type": "code",
   "execution_count": 26,
   "metadata": {
    "collapsed": false
   },
   "outputs": [
    {
     "data": {
      "text/html": [
       "<table>\n",
       "<thead><tr><th scope=col>order_id</th><th scope=col>product_id</th><th scope=col>add_to_cart_order</th><th scope=col>reordered</th><th scope=col>user_id</th><th scope=col>eval_set</th><th scope=col>order_number</th><th scope=col>order_dow</th><th scope=col>order_hour_of_day</th><th scope=col>days_since_prior_order</th></tr></thead>\n",
       "<tbody>\n",
       "\t<tr><td>2539329</td><td>  196  </td><td>1      </td><td>0      </td><td>1      </td><td>prior  </td><td> 1     </td><td>2      </td><td> 8     </td><td>-1     </td></tr>\n",
       "\t<tr><td>2539329</td><td>14084  </td><td>2      </td><td>0      </td><td>1      </td><td>prior  </td><td> 1     </td><td>2      </td><td> 8     </td><td>-1     </td></tr>\n",
       "\t<tr><td>2539329</td><td>12427  </td><td>3      </td><td>0      </td><td>1      </td><td>prior  </td><td> 1     </td><td>2      </td><td> 8     </td><td>-1     </td></tr>\n",
       "\t<tr><td>2539329</td><td>26088  </td><td>4      </td><td>0      </td><td>1      </td><td>prior  </td><td> 1     </td><td>2      </td><td> 8     </td><td>-1     </td></tr>\n",
       "\t<tr><td>2539329</td><td>26405  </td><td>5      </td><td>0      </td><td>1      </td><td>prior  </td><td> 1     </td><td>2      </td><td> 8     </td><td>-1     </td></tr>\n",
       "\t<tr><td>2398795</td><td>  196  </td><td>1      </td><td>1      </td><td>1      </td><td>prior  </td><td> 2     </td><td>3      </td><td> 7     </td><td>15     </td></tr>\n",
       "\t<tr><td>2398795</td><td>10258  </td><td>2      </td><td>0      </td><td>1      </td><td>prior  </td><td> 2     </td><td>3      </td><td> 7     </td><td>15     </td></tr>\n",
       "\t<tr><td>2398795</td><td>12427  </td><td>3      </td><td>1      </td><td>1      </td><td>prior  </td><td> 2     </td><td>3      </td><td> 7     </td><td>15     </td></tr>\n",
       "\t<tr><td>2398795</td><td>13176  </td><td>4      </td><td>0      </td><td>1      </td><td>prior  </td><td> 2     </td><td>3      </td><td> 7     </td><td>15     </td></tr>\n",
       "\t<tr><td>2398795</td><td>26088  </td><td>5      </td><td>1      </td><td>1      </td><td>prior  </td><td> 2     </td><td>3      </td><td> 7     </td><td>15     </td></tr>\n",
       "\t<tr><td>2398795</td><td>13032  </td><td>6      </td><td>0      </td><td>1      </td><td>prior  </td><td> 2     </td><td>3      </td><td> 7     </td><td>15     </td></tr>\n",
       "\t<tr><td> 473747</td><td>  196  </td><td>1      </td><td>1      </td><td>1      </td><td>prior  </td><td> 3     </td><td>3      </td><td>12     </td><td>21     </td></tr>\n",
       "\t<tr><td> 473747</td><td>12427  </td><td>2      </td><td>1      </td><td>1      </td><td>prior  </td><td> 3     </td><td>3      </td><td>12     </td><td>21     </td></tr>\n",
       "\t<tr><td> 473747</td><td>10258  </td><td>3      </td><td>1      </td><td>1      </td><td>prior  </td><td> 3     </td><td>3      </td><td>12     </td><td>21     </td></tr>\n",
       "\t<tr><td> 473747</td><td>25133  </td><td>4      </td><td>0      </td><td>1      </td><td>prior  </td><td> 3     </td><td>3      </td><td>12     </td><td>21     </td></tr>\n",
       "\t<tr><td> 473747</td><td>30450  </td><td>5      </td><td>0      </td><td>1      </td><td>prior  </td><td> 3     </td><td>3      </td><td>12     </td><td>21     </td></tr>\n",
       "\t<tr><td>2254736</td><td>  196  </td><td>1      </td><td>1      </td><td>1      </td><td>prior  </td><td> 4     </td><td>4      </td><td> 7     </td><td>29     </td></tr>\n",
       "\t<tr><td>2254736</td><td>12427  </td><td>2      </td><td>1      </td><td>1      </td><td>prior  </td><td> 4     </td><td>4      </td><td> 7     </td><td>29     </td></tr>\n",
       "\t<tr><td>2254736</td><td>10258  </td><td>3      </td><td>1      </td><td>1      </td><td>prior  </td><td> 4     </td><td>4      </td><td> 7     </td><td>29     </td></tr>\n",
       "\t<tr><td>2254736</td><td>25133  </td><td>4      </td><td>1      </td><td>1      </td><td>prior  </td><td> 4     </td><td>4      </td><td> 7     </td><td>29     </td></tr>\n",
       "\t<tr><td>2254736</td><td>26405  </td><td>5      </td><td>1      </td><td>1      </td><td>prior  </td><td> 4     </td><td>4      </td><td> 7     </td><td>29     </td></tr>\n",
       "\t<tr><td> 431534</td><td>  196  </td><td>1      </td><td>1      </td><td>1      </td><td>prior  </td><td> 5     </td><td>4      </td><td>15     </td><td>28     </td></tr>\n",
       "\t<tr><td> 431534</td><td>12427  </td><td>2      </td><td>1      </td><td>1      </td><td>prior  </td><td> 5     </td><td>4      </td><td>15     </td><td>28     </td></tr>\n",
       "\t<tr><td> 431534</td><td>10258  </td><td>3      </td><td>1      </td><td>1      </td><td>prior  </td><td> 5     </td><td>4      </td><td>15     </td><td>28     </td></tr>\n",
       "\t<tr><td> 431534</td><td>25133  </td><td>4      </td><td>1      </td><td>1      </td><td>prior  </td><td> 5     </td><td>4      </td><td>15     </td><td>28     </td></tr>\n",
       "\t<tr><td> 431534</td><td>10326  </td><td>5      </td><td>0      </td><td>1      </td><td>prior  </td><td> 5     </td><td>4      </td><td>15     </td><td>28     </td></tr>\n",
       "\t<tr><td> 431534</td><td>17122  </td><td>6      </td><td>0      </td><td>1      </td><td>prior  </td><td> 5     </td><td>4      </td><td>15     </td><td>28     </td></tr>\n",
       "\t<tr><td> 431534</td><td>41787  </td><td>7      </td><td>0      </td><td>1      </td><td>prior  </td><td> 5     </td><td>4      </td><td>15     </td><td>28     </td></tr>\n",
       "\t<tr><td> 431534</td><td>13176  </td><td>8      </td><td>1      </td><td>1      </td><td>prior  </td><td> 5     </td><td>4      </td><td>15     </td><td>28     </td></tr>\n",
       "\t<tr><td>3367565</td><td>  196  </td><td>1      </td><td>1      </td><td>1      </td><td>prior  </td><td> 6     </td><td>2      </td><td> 7     </td><td>19     </td></tr>\n",
       "\t<tr><td>3367565</td><td>12427  </td><td>2      </td><td>1      </td><td>1      </td><td>prior  </td><td> 6     </td><td>2      </td><td> 7     </td><td>19     </td></tr>\n",
       "\t<tr><td>3367565</td><td>10258  </td><td>3      </td><td>1      </td><td>1      </td><td>prior  </td><td> 6     </td><td>2      </td><td> 7     </td><td>19     </td></tr>\n",
       "\t<tr><td>3367565</td><td>25133  </td><td>4      </td><td>1      </td><td>1      </td><td>prior  </td><td> 6     </td><td>2      </td><td> 7     </td><td>19     </td></tr>\n",
       "\t<tr><td> 550135</td><td>  196  </td><td>1      </td><td>1      </td><td>1      </td><td>prior  </td><td> 7     </td><td>1      </td><td> 9     </td><td>20     </td></tr>\n",
       "\t<tr><td> 550135</td><td>10258  </td><td>2      </td><td>1      </td><td>1      </td><td>prior  </td><td> 7     </td><td>1      </td><td> 9     </td><td>20     </td></tr>\n",
       "\t<tr><td> 550135</td><td>12427  </td><td>3      </td><td>1      </td><td>1      </td><td>prior  </td><td> 7     </td><td>1      </td><td> 9     </td><td>20     </td></tr>\n",
       "\t<tr><td> 550135</td><td>25133  </td><td>4      </td><td>1      </td><td>1      </td><td>prior  </td><td> 7     </td><td>1      </td><td> 9     </td><td>20     </td></tr>\n",
       "\t<tr><td> 550135</td><td>13032  </td><td>5      </td><td>1      </td><td>1      </td><td>prior  </td><td> 7     </td><td>1      </td><td> 9     </td><td>20     </td></tr>\n",
       "\t<tr><td>3108588</td><td>12427  </td><td>1      </td><td>1      </td><td>1      </td><td>prior  </td><td> 8     </td><td>1      </td><td>14     </td><td>14     </td></tr>\n",
       "\t<tr><td>3108588</td><td>  196  </td><td>2      </td><td>1      </td><td>1      </td><td>prior  </td><td> 8     </td><td>1      </td><td>14     </td><td>14     </td></tr>\n",
       "\t<tr><td>3108588</td><td>10258  </td><td>3      </td><td>1      </td><td>1      </td><td>prior  </td><td> 8     </td><td>1      </td><td>14     </td><td>14     </td></tr>\n",
       "\t<tr><td>3108588</td><td>25133  </td><td>4      </td><td>1      </td><td>1      </td><td>prior  </td><td> 8     </td><td>1      </td><td>14     </td><td>14     </td></tr>\n",
       "\t<tr><td>3108588</td><td>46149  </td><td>5      </td><td>0      </td><td>1      </td><td>prior  </td><td> 8     </td><td>1      </td><td>14     </td><td>14     </td></tr>\n",
       "\t<tr><td>3108588</td><td>49235  </td><td>6      </td><td>0      </td><td>1      </td><td>prior  </td><td> 8     </td><td>1      </td><td>14     </td><td>14     </td></tr>\n",
       "\t<tr><td>2295261</td><td>49235  </td><td>1      </td><td>1      </td><td>1      </td><td>prior  </td><td> 9     </td><td>1      </td><td>16     </td><td> 0     </td></tr>\n",
       "\t<tr><td>2295261</td><td>46149  </td><td>2      </td><td>1      </td><td>1      </td><td>prior  </td><td> 9     </td><td>1      </td><td>16     </td><td> 0     </td></tr>\n",
       "\t<tr><td>2295261</td><td>25133  </td><td>3      </td><td>1      </td><td>1      </td><td>prior  </td><td> 9     </td><td>1      </td><td>16     </td><td> 0     </td></tr>\n",
       "\t<tr><td>2295261</td><td>  196  </td><td>4      </td><td>1      </td><td>1      </td><td>prior  </td><td> 9     </td><td>1      </td><td>16     </td><td> 0     </td></tr>\n",
       "\t<tr><td>2295261</td><td>10258  </td><td>5      </td><td>1      </td><td>1      </td><td>prior  </td><td> 9     </td><td>1      </td><td>16     </td><td> 0     </td></tr>\n",
       "\t<tr><td>2295261</td><td>12427  </td><td>6      </td><td>1      </td><td>1      </td><td>prior  </td><td> 9     </td><td>1      </td><td>16     </td><td> 0     </td></tr>\n",
       "\t<tr><td>2550362</td><td>  196  </td><td>1      </td><td>1      </td><td>1      </td><td>prior  </td><td>10     </td><td>4      </td><td> 8     </td><td>30     </td></tr>\n",
       "\t<tr><td>2550362</td><td>46149  </td><td>2      </td><td>1      </td><td>1      </td><td>prior  </td><td>10     </td><td>4      </td><td> 8     </td><td>30     </td></tr>\n",
       "\t<tr><td>2550362</td><td>39657  </td><td>3      </td><td>0      </td><td>1      </td><td>prior  </td><td>10     </td><td>4      </td><td> 8     </td><td>30     </td></tr>\n",
       "\t<tr><td>2550362</td><td>38928  </td><td>4      </td><td>0      </td><td>1      </td><td>prior  </td><td>10     </td><td>4      </td><td> 8     </td><td>30     </td></tr>\n",
       "\t<tr><td>2550362</td><td>25133  </td><td>5      </td><td>1      </td><td>1      </td><td>prior  </td><td>10     </td><td>4      </td><td> 8     </td><td>30     </td></tr>\n",
       "\t<tr><td>2550362</td><td>10258  </td><td>6      </td><td>1      </td><td>1      </td><td>prior  </td><td>10     </td><td>4      </td><td> 8     </td><td>30     </td></tr>\n",
       "\t<tr><td>2550362</td><td>35951  </td><td>7      </td><td>0      </td><td>1      </td><td>prior  </td><td>10     </td><td>4      </td><td> 8     </td><td>30     </td></tr>\n",
       "\t<tr><td>2550362</td><td>13032  </td><td>8      </td><td>1      </td><td>1      </td><td>prior  </td><td>10     </td><td>4      </td><td> 8     </td><td>30     </td></tr>\n",
       "\t<tr><td>2550362</td><td>12427  </td><td>9      </td><td>1      </td><td>1      </td><td>prior  </td><td>10     </td><td>4      </td><td> 8     </td><td>30     </td></tr>\n",
       "</tbody>\n",
       "</table>\n"
      ],
      "text/latex": [
       "\\begin{tabular}{r|llllllllll}\n",
       " order\\_id & product\\_id & add\\_to\\_cart\\_order & reordered & user\\_id & eval\\_set & order\\_number & order\\_dow & order\\_hour\\_of\\_day & days\\_since\\_prior\\_order\\\\\n",
       "\\hline\n",
       "\t 2539329 &   196   & 1       & 0       & 1       & prior   &  1      & 2       &  8      & -1     \\\\\n",
       "\t 2539329 & 14084   & 2       & 0       & 1       & prior   &  1      & 2       &  8      & -1     \\\\\n",
       "\t 2539329 & 12427   & 3       & 0       & 1       & prior   &  1      & 2       &  8      & -1     \\\\\n",
       "\t 2539329 & 26088   & 4       & 0       & 1       & prior   &  1      & 2       &  8      & -1     \\\\\n",
       "\t 2539329 & 26405   & 5       & 0       & 1       & prior   &  1      & 2       &  8      & -1     \\\\\n",
       "\t 2398795 &   196   & 1       & 1       & 1       & prior   &  2      & 3       &  7      & 15     \\\\\n",
       "\t 2398795 & 10258   & 2       & 0       & 1       & prior   &  2      & 3       &  7      & 15     \\\\\n",
       "\t 2398795 & 12427   & 3       & 1       & 1       & prior   &  2      & 3       &  7      & 15     \\\\\n",
       "\t 2398795 & 13176   & 4       & 0       & 1       & prior   &  2      & 3       &  7      & 15     \\\\\n",
       "\t 2398795 & 26088   & 5       & 1       & 1       & prior   &  2      & 3       &  7      & 15     \\\\\n",
       "\t 2398795 & 13032   & 6       & 0       & 1       & prior   &  2      & 3       &  7      & 15     \\\\\n",
       "\t  473747 &   196   & 1       & 1       & 1       & prior   &  3      & 3       & 12      & 21     \\\\\n",
       "\t  473747 & 12427   & 2       & 1       & 1       & prior   &  3      & 3       & 12      & 21     \\\\\n",
       "\t  473747 & 10258   & 3       & 1       & 1       & prior   &  3      & 3       & 12      & 21     \\\\\n",
       "\t  473747 & 25133   & 4       & 0       & 1       & prior   &  3      & 3       & 12      & 21     \\\\\n",
       "\t  473747 & 30450   & 5       & 0       & 1       & prior   &  3      & 3       & 12      & 21     \\\\\n",
       "\t 2254736 &   196   & 1       & 1       & 1       & prior   &  4      & 4       &  7      & 29     \\\\\n",
       "\t 2254736 & 12427   & 2       & 1       & 1       & prior   &  4      & 4       &  7      & 29     \\\\\n",
       "\t 2254736 & 10258   & 3       & 1       & 1       & prior   &  4      & 4       &  7      & 29     \\\\\n",
       "\t 2254736 & 25133   & 4       & 1       & 1       & prior   &  4      & 4       &  7      & 29     \\\\\n",
       "\t 2254736 & 26405   & 5       & 1       & 1       & prior   &  4      & 4       &  7      & 29     \\\\\n",
       "\t  431534 &   196   & 1       & 1       & 1       & prior   &  5      & 4       & 15      & 28     \\\\\n",
       "\t  431534 & 12427   & 2       & 1       & 1       & prior   &  5      & 4       & 15      & 28     \\\\\n",
       "\t  431534 & 10258   & 3       & 1       & 1       & prior   &  5      & 4       & 15      & 28     \\\\\n",
       "\t  431534 & 25133   & 4       & 1       & 1       & prior   &  5      & 4       & 15      & 28     \\\\\n",
       "\t  431534 & 10326   & 5       & 0       & 1       & prior   &  5      & 4       & 15      & 28     \\\\\n",
       "\t  431534 & 17122   & 6       & 0       & 1       & prior   &  5      & 4       & 15      & 28     \\\\\n",
       "\t  431534 & 41787   & 7       & 0       & 1       & prior   &  5      & 4       & 15      & 28     \\\\\n",
       "\t  431534 & 13176   & 8       & 1       & 1       & prior   &  5      & 4       & 15      & 28     \\\\\n",
       "\t 3367565 &   196   & 1       & 1       & 1       & prior   &  6      & 2       &  7      & 19     \\\\\n",
       "\t 3367565 & 12427   & 2       & 1       & 1       & prior   &  6      & 2       &  7      & 19     \\\\\n",
       "\t 3367565 & 10258   & 3       & 1       & 1       & prior   &  6      & 2       &  7      & 19     \\\\\n",
       "\t 3367565 & 25133   & 4       & 1       & 1       & prior   &  6      & 2       &  7      & 19     \\\\\n",
       "\t  550135 &   196   & 1       & 1       & 1       & prior   &  7      & 1       &  9      & 20     \\\\\n",
       "\t  550135 & 10258   & 2       & 1       & 1       & prior   &  7      & 1       &  9      & 20     \\\\\n",
       "\t  550135 & 12427   & 3       & 1       & 1       & prior   &  7      & 1       &  9      & 20     \\\\\n",
       "\t  550135 & 25133   & 4       & 1       & 1       & prior   &  7      & 1       &  9      & 20     \\\\\n",
       "\t  550135 & 13032   & 5       & 1       & 1       & prior   &  7      & 1       &  9      & 20     \\\\\n",
       "\t 3108588 & 12427   & 1       & 1       & 1       & prior   &  8      & 1       & 14      & 14     \\\\\n",
       "\t 3108588 &   196   & 2       & 1       & 1       & prior   &  8      & 1       & 14      & 14     \\\\\n",
       "\t 3108588 & 10258   & 3       & 1       & 1       & prior   &  8      & 1       & 14      & 14     \\\\\n",
       "\t 3108588 & 25133   & 4       & 1       & 1       & prior   &  8      & 1       & 14      & 14     \\\\\n",
       "\t 3108588 & 46149   & 5       & 0       & 1       & prior   &  8      & 1       & 14      & 14     \\\\\n",
       "\t 3108588 & 49235   & 6       & 0       & 1       & prior   &  8      & 1       & 14      & 14     \\\\\n",
       "\t 2295261 & 49235   & 1       & 1       & 1       & prior   &  9      & 1       & 16      &  0     \\\\\n",
       "\t 2295261 & 46149   & 2       & 1       & 1       & prior   &  9      & 1       & 16      &  0     \\\\\n",
       "\t 2295261 & 25133   & 3       & 1       & 1       & prior   &  9      & 1       & 16      &  0     \\\\\n",
       "\t 2295261 &   196   & 4       & 1       & 1       & prior   &  9      & 1       & 16      &  0     \\\\\n",
       "\t 2295261 & 10258   & 5       & 1       & 1       & prior   &  9      & 1       & 16      &  0     \\\\\n",
       "\t 2295261 & 12427   & 6       & 1       & 1       & prior   &  9      & 1       & 16      &  0     \\\\\n",
       "\t 2550362 &   196   & 1       & 1       & 1       & prior   & 10      & 4       &  8      & 30     \\\\\n",
       "\t 2550362 & 46149   & 2       & 1       & 1       & prior   & 10      & 4       &  8      & 30     \\\\\n",
       "\t 2550362 & 39657   & 3       & 0       & 1       & prior   & 10      & 4       &  8      & 30     \\\\\n",
       "\t 2550362 & 38928   & 4       & 0       & 1       & prior   & 10      & 4       &  8      & 30     \\\\\n",
       "\t 2550362 & 25133   & 5       & 1       & 1       & prior   & 10      & 4       &  8      & 30     \\\\\n",
       "\t 2550362 & 10258   & 6       & 1       & 1       & prior   & 10      & 4       &  8      & 30     \\\\\n",
       "\t 2550362 & 35951   & 7       & 0       & 1       & prior   & 10      & 4       &  8      & 30     \\\\\n",
       "\t 2550362 & 13032   & 8       & 1       & 1       & prior   & 10      & 4       &  8      & 30     \\\\\n",
       "\t 2550362 & 12427   & 9       & 1       & 1       & prior   & 10      & 4       &  8      & 30     \\\\\n",
       "\\end{tabular}\n"
      ],
      "text/markdown": [
       "\n",
       "order_id | product_id | add_to_cart_order | reordered | user_id | eval_set | order_number | order_dow | order_hour_of_day | days_since_prior_order | \n",
       "|---|---|---|---|---|---|---|---|---|---|---|---|---|---|---|---|---|---|---|---|---|---|---|---|---|---|---|---|---|---|---|---|---|---|---|---|---|---|---|---|---|---|---|---|---|---|---|---|---|---|---|---|---|---|---|---|---|---|---|\n",
       "| 2539329 |   196   | 1       | 0       | 1       | prior   |  1      | 2       |  8      | -1      | \n",
       "| 2539329 | 14084   | 2       | 0       | 1       | prior   |  1      | 2       |  8      | -1      | \n",
       "| 2539329 | 12427   | 3       | 0       | 1       | prior   |  1      | 2       |  8      | -1      | \n",
       "| 2539329 | 26088   | 4       | 0       | 1       | prior   |  1      | 2       |  8      | -1      | \n",
       "| 2539329 | 26405   | 5       | 0       | 1       | prior   |  1      | 2       |  8      | -1      | \n",
       "| 2398795 |   196   | 1       | 1       | 1       | prior   |  2      | 3       |  7      | 15      | \n",
       "| 2398795 | 10258   | 2       | 0       | 1       | prior   |  2      | 3       |  7      | 15      | \n",
       "| 2398795 | 12427   | 3       | 1       | 1       | prior   |  2      | 3       |  7      | 15      | \n",
       "| 2398795 | 13176   | 4       | 0       | 1       | prior   |  2      | 3       |  7      | 15      | \n",
       "| 2398795 | 26088   | 5       | 1       | 1       | prior   |  2      | 3       |  7      | 15      | \n",
       "| 2398795 | 13032   | 6       | 0       | 1       | prior   |  2      | 3       |  7      | 15      | \n",
       "|  473747 |   196   | 1       | 1       | 1       | prior   |  3      | 3       | 12      | 21      | \n",
       "|  473747 | 12427   | 2       | 1       | 1       | prior   |  3      | 3       | 12      | 21      | \n",
       "|  473747 | 10258   | 3       | 1       | 1       | prior   |  3      | 3       | 12      | 21      | \n",
       "|  473747 | 25133   | 4       | 0       | 1       | prior   |  3      | 3       | 12      | 21      | \n",
       "|  473747 | 30450   | 5       | 0       | 1       | prior   |  3      | 3       | 12      | 21      | \n",
       "| 2254736 |   196   | 1       | 1       | 1       | prior   |  4      | 4       |  7      | 29      | \n",
       "| 2254736 | 12427   | 2       | 1       | 1       | prior   |  4      | 4       |  7      | 29      | \n",
       "| 2254736 | 10258   | 3       | 1       | 1       | prior   |  4      | 4       |  7      | 29      | \n",
       "| 2254736 | 25133   | 4       | 1       | 1       | prior   |  4      | 4       |  7      | 29      | \n",
       "| 2254736 | 26405   | 5       | 1       | 1       | prior   |  4      | 4       |  7      | 29      | \n",
       "|  431534 |   196   | 1       | 1       | 1       | prior   |  5      | 4       | 15      | 28      | \n",
       "|  431534 | 12427   | 2       | 1       | 1       | prior   |  5      | 4       | 15      | 28      | \n",
       "|  431534 | 10258   | 3       | 1       | 1       | prior   |  5      | 4       | 15      | 28      | \n",
       "|  431534 | 25133   | 4       | 1       | 1       | prior   |  5      | 4       | 15      | 28      | \n",
       "|  431534 | 10326   | 5       | 0       | 1       | prior   |  5      | 4       | 15      | 28      | \n",
       "|  431534 | 17122   | 6       | 0       | 1       | prior   |  5      | 4       | 15      | 28      | \n",
       "|  431534 | 41787   | 7       | 0       | 1       | prior   |  5      | 4       | 15      | 28      | \n",
       "|  431534 | 13176   | 8       | 1       | 1       | prior   |  5      | 4       | 15      | 28      | \n",
       "| 3367565 |   196   | 1       | 1       | 1       | prior   |  6      | 2       |  7      | 19      | \n",
       "| 3367565 | 12427   | 2       | 1       | 1       | prior   |  6      | 2       |  7      | 19      | \n",
       "| 3367565 | 10258   | 3       | 1       | 1       | prior   |  6      | 2       |  7      | 19      | \n",
       "| 3367565 | 25133   | 4       | 1       | 1       | prior   |  6      | 2       |  7      | 19      | \n",
       "|  550135 |   196   | 1       | 1       | 1       | prior   |  7      | 1       |  9      | 20      | \n",
       "|  550135 | 10258   | 2       | 1       | 1       | prior   |  7      | 1       |  9      | 20      | \n",
       "|  550135 | 12427   | 3       | 1       | 1       | prior   |  7      | 1       |  9      | 20      | \n",
       "|  550135 | 25133   | 4       | 1       | 1       | prior   |  7      | 1       |  9      | 20      | \n",
       "|  550135 | 13032   | 5       | 1       | 1       | prior   |  7      | 1       |  9      | 20      | \n",
       "| 3108588 | 12427   | 1       | 1       | 1       | prior   |  8      | 1       | 14      | 14      | \n",
       "| 3108588 |   196   | 2       | 1       | 1       | prior   |  8      | 1       | 14      | 14      | \n",
       "| 3108588 | 10258   | 3       | 1       | 1       | prior   |  8      | 1       | 14      | 14      | \n",
       "| 3108588 | 25133   | 4       | 1       | 1       | prior   |  8      | 1       | 14      | 14      | \n",
       "| 3108588 | 46149   | 5       | 0       | 1       | prior   |  8      | 1       | 14      | 14      | \n",
       "| 3108588 | 49235   | 6       | 0       | 1       | prior   |  8      | 1       | 14      | 14      | \n",
       "| 2295261 | 49235   | 1       | 1       | 1       | prior   |  9      | 1       | 16      |  0      | \n",
       "| 2295261 | 46149   | 2       | 1       | 1       | prior   |  9      | 1       | 16      |  0      | \n",
       "| 2295261 | 25133   | 3       | 1       | 1       | prior   |  9      | 1       | 16      |  0      | \n",
       "| 2295261 |   196   | 4       | 1       | 1       | prior   |  9      | 1       | 16      |  0      | \n",
       "| 2295261 | 10258   | 5       | 1       | 1       | prior   |  9      | 1       | 16      |  0      | \n",
       "| 2295261 | 12427   | 6       | 1       | 1       | prior   |  9      | 1       | 16      |  0      | \n",
       "| 2550362 |   196   | 1       | 1       | 1       | prior   | 10      | 4       |  8      | 30      | \n",
       "| 2550362 | 46149   | 2       | 1       | 1       | prior   | 10      | 4       |  8      | 30      | \n",
       "| 2550362 | 39657   | 3       | 0       | 1       | prior   | 10      | 4       |  8      | 30      | \n",
       "| 2550362 | 38928   | 4       | 0       | 1       | prior   | 10      | 4       |  8      | 30      | \n",
       "| 2550362 | 25133   | 5       | 1       | 1       | prior   | 10      | 4       |  8      | 30      | \n",
       "| 2550362 | 10258   | 6       | 1       | 1       | prior   | 10      | 4       |  8      | 30      | \n",
       "| 2550362 | 35951   | 7       | 0       | 1       | prior   | 10      | 4       |  8      | 30      | \n",
       "| 2550362 | 13032   | 8       | 1       | 1       | prior   | 10      | 4       |  8      | 30      | \n",
       "| 2550362 | 12427   | 9       | 1       | 1       | prior   | 10      | 4       |  8      | 30      | \n",
       "\n",
       "\n"
      ],
      "text/plain": [
       "   order_id product_id add_to_cart_order reordered user_id eval_set\n",
       "1  2539329    196      1                 0         1       prior   \n",
       "2  2539329  14084      2                 0         1       prior   \n",
       "3  2539329  12427      3                 0         1       prior   \n",
       "4  2539329  26088      4                 0         1       prior   \n",
       "5  2539329  26405      5                 0         1       prior   \n",
       "6  2398795    196      1                 1         1       prior   \n",
       "7  2398795  10258      2                 0         1       prior   \n",
       "8  2398795  12427      3                 1         1       prior   \n",
       "9  2398795  13176      4                 0         1       prior   \n",
       "10 2398795  26088      5                 1         1       prior   \n",
       "11 2398795  13032      6                 0         1       prior   \n",
       "12  473747    196      1                 1         1       prior   \n",
       "13  473747  12427      2                 1         1       prior   \n",
       "14  473747  10258      3                 1         1       prior   \n",
       "15  473747  25133      4                 0         1       prior   \n",
       "16  473747  30450      5                 0         1       prior   \n",
       "17 2254736    196      1                 1         1       prior   \n",
       "18 2254736  12427      2                 1         1       prior   \n",
       "19 2254736  10258      3                 1         1       prior   \n",
       "20 2254736  25133      4                 1         1       prior   \n",
       "21 2254736  26405      5                 1         1       prior   \n",
       "22  431534    196      1                 1         1       prior   \n",
       "23  431534  12427      2                 1         1       prior   \n",
       "24  431534  10258      3                 1         1       prior   \n",
       "25  431534  25133      4                 1         1       prior   \n",
       "26  431534  10326      5                 0         1       prior   \n",
       "27  431534  17122      6                 0         1       prior   \n",
       "28  431534  41787      7                 0         1       prior   \n",
       "29  431534  13176      8                 1         1       prior   \n",
       "30 3367565    196      1                 1         1       prior   \n",
       "31 3367565  12427      2                 1         1       prior   \n",
       "32 3367565  10258      3                 1         1       prior   \n",
       "33 3367565  25133      4                 1         1       prior   \n",
       "34  550135    196      1                 1         1       prior   \n",
       "35  550135  10258      2                 1         1       prior   \n",
       "36  550135  12427      3                 1         1       prior   \n",
       "37  550135  25133      4                 1         1       prior   \n",
       "38  550135  13032      5                 1         1       prior   \n",
       "39 3108588  12427      1                 1         1       prior   \n",
       "40 3108588    196      2                 1         1       prior   \n",
       "41 3108588  10258      3                 1         1       prior   \n",
       "42 3108588  25133      4                 1         1       prior   \n",
       "43 3108588  46149      5                 0         1       prior   \n",
       "44 3108588  49235      6                 0         1       prior   \n",
       "45 2295261  49235      1                 1         1       prior   \n",
       "46 2295261  46149      2                 1         1       prior   \n",
       "47 2295261  25133      3                 1         1       prior   \n",
       "48 2295261    196      4                 1         1       prior   \n",
       "49 2295261  10258      5                 1         1       prior   \n",
       "50 2295261  12427      6                 1         1       prior   \n",
       "51 2550362    196      1                 1         1       prior   \n",
       "52 2550362  46149      2                 1         1       prior   \n",
       "53 2550362  39657      3                 0         1       prior   \n",
       "54 2550362  38928      4                 0         1       prior   \n",
       "55 2550362  25133      5                 1         1       prior   \n",
       "56 2550362  10258      6                 1         1       prior   \n",
       "57 2550362  35951      7                 0         1       prior   \n",
       "58 2550362  13032      8                 1         1       prior   \n",
       "59 2550362  12427      9                 1         1       prior   \n",
       "   order_number order_dow order_hour_of_day days_since_prior_order\n",
       "1   1           2          8                -1                    \n",
       "2   1           2          8                -1                    \n",
       "3   1           2          8                -1                    \n",
       "4   1           2          8                -1                    \n",
       "5   1           2          8                -1                    \n",
       "6   2           3          7                15                    \n",
       "7   2           3          7                15                    \n",
       "8   2           3          7                15                    \n",
       "9   2           3          7                15                    \n",
       "10  2           3          7                15                    \n",
       "11  2           3          7                15                    \n",
       "12  3           3         12                21                    \n",
       "13  3           3         12                21                    \n",
       "14  3           3         12                21                    \n",
       "15  3           3         12                21                    \n",
       "16  3           3         12                21                    \n",
       "17  4           4          7                29                    \n",
       "18  4           4          7                29                    \n",
       "19  4           4          7                29                    \n",
       "20  4           4          7                29                    \n",
       "21  4           4          7                29                    \n",
       "22  5           4         15                28                    \n",
       "23  5           4         15                28                    \n",
       "24  5           4         15                28                    \n",
       "25  5           4         15                28                    \n",
       "26  5           4         15                28                    \n",
       "27  5           4         15                28                    \n",
       "28  5           4         15                28                    \n",
       "29  5           4         15                28                    \n",
       "30  6           2          7                19                    \n",
       "31  6           2          7                19                    \n",
       "32  6           2          7                19                    \n",
       "33  6           2          7                19                    \n",
       "34  7           1          9                20                    \n",
       "35  7           1          9                20                    \n",
       "36  7           1          9                20                    \n",
       "37  7           1          9                20                    \n",
       "38  7           1          9                20                    \n",
       "39  8           1         14                14                    \n",
       "40  8           1         14                14                    \n",
       "41  8           1         14                14                    \n",
       "42  8           1         14                14                    \n",
       "43  8           1         14                14                    \n",
       "44  8           1         14                14                    \n",
       "45  9           1         16                 0                    \n",
       "46  9           1         16                 0                    \n",
       "47  9           1         16                 0                    \n",
       "48  9           1         16                 0                    \n",
       "49  9           1         16                 0                    \n",
       "50  9           1         16                 0                    \n",
       "51 10           4          8                30                    \n",
       "52 10           4          8                30                    \n",
       "53 10           4          8                30                    \n",
       "54 10           4          8                30                    \n",
       "55 10           4          8                30                    \n",
       "56 10           4          8                30                    \n",
       "57 10           4          8                30                    \n",
       "58 10           4          8                30                    \n",
       "59 10           4          8                30                    "
      ]
     },
     "metadata": {},
     "output_type": "display_data"
    }
   ],
   "source": [
    "prior_orders[user_id==1]"
   ]
  },
  {
   "cell_type": "code",
   "execution_count": 27,
   "metadata": {
    "collapsed": false
   },
   "outputs": [],
   "source": [
    "setorderv(train_orders,\"order_number\")"
   ]
  },
  {
   "cell_type": "code",
   "execution_count": 28,
   "metadata": {
    "collapsed": false
   },
   "outputs": [
    {
     "data": {
      "text/html": [
       "<table>\n",
       "<thead><tr><th scope=col>order_id</th><th scope=col>product_id</th><th scope=col>add_to_cart_order</th><th scope=col>reordered</th><th scope=col>user_id</th><th scope=col>eval_set</th><th scope=col>order_number</th><th scope=col>order_dow</th><th scope=col>order_hour_of_day</th><th scope=col>days_since_prior_order</th></tr></thead>\n",
       "<tbody>\n",
       "\t<tr><td>1187899</td><td>  196  </td><td> 1     </td><td>1      </td><td>1      </td><td>train  </td><td>11     </td><td>4      </td><td>8      </td><td>14     </td></tr>\n",
       "\t<tr><td>1187899</td><td>25133  </td><td> 2     </td><td>1      </td><td>1      </td><td>train  </td><td>11     </td><td>4      </td><td>8      </td><td>14     </td></tr>\n",
       "\t<tr><td>1187899</td><td>38928  </td><td> 3     </td><td>1      </td><td>1      </td><td>train  </td><td>11     </td><td>4      </td><td>8      </td><td>14     </td></tr>\n",
       "\t<tr><td>1187899</td><td>26405  </td><td> 4     </td><td>1      </td><td>1      </td><td>train  </td><td>11     </td><td>4      </td><td>8      </td><td>14     </td></tr>\n",
       "\t<tr><td>1187899</td><td>39657  </td><td> 5     </td><td>1      </td><td>1      </td><td>train  </td><td>11     </td><td>4      </td><td>8      </td><td>14     </td></tr>\n",
       "\t<tr><td>1187899</td><td>10258  </td><td> 6     </td><td>1      </td><td>1      </td><td>train  </td><td>11     </td><td>4      </td><td>8      </td><td>14     </td></tr>\n",
       "\t<tr><td>1187899</td><td>13032  </td><td> 7     </td><td>1      </td><td>1      </td><td>train  </td><td>11     </td><td>4      </td><td>8      </td><td>14     </td></tr>\n",
       "\t<tr><td>1187899</td><td>26088  </td><td> 8     </td><td>1      </td><td>1      </td><td>train  </td><td>11     </td><td>4      </td><td>8      </td><td>14     </td></tr>\n",
       "\t<tr><td>1187899</td><td>27845  </td><td> 9     </td><td>0      </td><td>1      </td><td>train  </td><td>11     </td><td>4      </td><td>8      </td><td>14     </td></tr>\n",
       "\t<tr><td>1187899</td><td>49235  </td><td>10     </td><td>1      </td><td>1      </td><td>train  </td><td>11     </td><td>4      </td><td>8      </td><td>14     </td></tr>\n",
       "\t<tr><td>1187899</td><td>46149  </td><td>11     </td><td>1      </td><td>1      </td><td>train  </td><td>11     </td><td>4      </td><td>8      </td><td>14     </td></tr>\n",
       "</tbody>\n",
       "</table>\n"
      ],
      "text/latex": [
       "\\begin{tabular}{r|llllllllll}\n",
       " order\\_id & product\\_id & add\\_to\\_cart\\_order & reordered & user\\_id & eval\\_set & order\\_number & order\\_dow & order\\_hour\\_of\\_day & days\\_since\\_prior\\_order\\\\\n",
       "\\hline\n",
       "\t 1187899 &   196   &  1      & 1       & 1       & train   & 11      & 4       & 8       & 14     \\\\\n",
       "\t 1187899 & 25133   &  2      & 1       & 1       & train   & 11      & 4       & 8       & 14     \\\\\n",
       "\t 1187899 & 38928   &  3      & 1       & 1       & train   & 11      & 4       & 8       & 14     \\\\\n",
       "\t 1187899 & 26405   &  4      & 1       & 1       & train   & 11      & 4       & 8       & 14     \\\\\n",
       "\t 1187899 & 39657   &  5      & 1       & 1       & train   & 11      & 4       & 8       & 14     \\\\\n",
       "\t 1187899 & 10258   &  6      & 1       & 1       & train   & 11      & 4       & 8       & 14     \\\\\n",
       "\t 1187899 & 13032   &  7      & 1       & 1       & train   & 11      & 4       & 8       & 14     \\\\\n",
       "\t 1187899 & 26088   &  8      & 1       & 1       & train   & 11      & 4       & 8       & 14     \\\\\n",
       "\t 1187899 & 27845   &  9      & 0       & 1       & train   & 11      & 4       & 8       & 14     \\\\\n",
       "\t 1187899 & 49235   & 10      & 1       & 1       & train   & 11      & 4       & 8       & 14     \\\\\n",
       "\t 1187899 & 46149   & 11      & 1       & 1       & train   & 11      & 4       & 8       & 14     \\\\\n",
       "\\end{tabular}\n"
      ],
      "text/markdown": [
       "\n",
       "order_id | product_id | add_to_cart_order | reordered | user_id | eval_set | order_number | order_dow | order_hour_of_day | days_since_prior_order | \n",
       "|---|---|---|---|---|---|---|---|---|---|---|\n",
       "| 1187899 |   196   |  1      | 1       | 1       | train   | 11      | 4       | 8       | 14      | \n",
       "| 1187899 | 25133   |  2      | 1       | 1       | train   | 11      | 4       | 8       | 14      | \n",
       "| 1187899 | 38928   |  3      | 1       | 1       | train   | 11      | 4       | 8       | 14      | \n",
       "| 1187899 | 26405   |  4      | 1       | 1       | train   | 11      | 4       | 8       | 14      | \n",
       "| 1187899 | 39657   |  5      | 1       | 1       | train   | 11      | 4       | 8       | 14      | \n",
       "| 1187899 | 10258   |  6      | 1       | 1       | train   | 11      | 4       | 8       | 14      | \n",
       "| 1187899 | 13032   |  7      | 1       | 1       | train   | 11      | 4       | 8       | 14      | \n",
       "| 1187899 | 26088   |  8      | 1       | 1       | train   | 11      | 4       | 8       | 14      | \n",
       "| 1187899 | 27845   |  9      | 0       | 1       | train   | 11      | 4       | 8       | 14      | \n",
       "| 1187899 | 49235   | 10      | 1       | 1       | train   | 11      | 4       | 8       | 14      | \n",
       "| 1187899 | 46149   | 11      | 1       | 1       | train   | 11      | 4       | 8       | 14      | \n",
       "\n",
       "\n"
      ],
      "text/plain": [
       "   order_id product_id add_to_cart_order reordered user_id eval_set\n",
       "1  1187899    196       1                1         1       train   \n",
       "2  1187899  25133       2                1         1       train   \n",
       "3  1187899  38928       3                1         1       train   \n",
       "4  1187899  26405       4                1         1       train   \n",
       "5  1187899  39657       5                1         1       train   \n",
       "6  1187899  10258       6                1         1       train   \n",
       "7  1187899  13032       7                1         1       train   \n",
       "8  1187899  26088       8                1         1       train   \n",
       "9  1187899  27845       9                0         1       train   \n",
       "10 1187899  49235      10                1         1       train   \n",
       "11 1187899  46149      11                1         1       train   \n",
       "   order_number order_dow order_hour_of_day days_since_prior_order\n",
       "1  11           4         8                 14                    \n",
       "2  11           4         8                 14                    \n",
       "3  11           4         8                 14                    \n",
       "4  11           4         8                 14                    \n",
       "5  11           4         8                 14                    \n",
       "6  11           4         8                 14                    \n",
       "7  11           4         8                 14                    \n",
       "8  11           4         8                 14                    \n",
       "9  11           4         8                 14                    \n",
       "10 11           4         8                 14                    \n",
       "11 11           4         8                 14                    "
      ]
     },
     "metadata": {},
     "output_type": "display_data"
    }
   ],
   "source": [
    "train_orders[user_id==1]"
   ]
  },
  {
   "cell_type": "markdown",
   "metadata": {},
   "source": [
    "We See that, for user_id = 1, 10 of the prior orders are present in prior_order dataset and the 11th order in train data. Let's combine these two to get our train dataset.\n",
    "\n",
    "Also,\n",
    "\n",
    "Reordered colomn will tell us if the product is begin ordered for the first time or not.\n",
    "\n",
    "order number will give us the sequence of order\n",
    "\n",
    "add_to_cart_order gives us the sequence by which the product is added to cart"
   ]
  },
  {
   "cell_type": "code",
   "execution_count": 29,
   "metadata": {
    "collapsed": false
   },
   "outputs": [],
   "source": [
    "#prior_in_train = prior_orders[prior_orders.user_id.isin(train_orders.user_id.unique())]\n",
    "prior_in_train = prior_orders[user_id %in% unique(train_orders$user_id)]"
   ]
  },
  {
   "cell_type": "code",
   "execution_count": 30,
   "metadata": {
    "collapsed": false
   },
   "outputs": [
    {
     "data": {
      "text/html": [
       "<ol class=list-inline>\n",
       "\t<li>20641991</li>\n",
       "\t<li>10</li>\n",
       "</ol>\n"
      ],
      "text/latex": [
       "\\begin{enumerate*}\n",
       "\\item 20641991\n",
       "\\item 10\n",
       "\\end{enumerate*}\n"
      ],
      "text/markdown": [
       "1. 20641991\n",
       "2. 10\n",
       "\n",
       "\n"
      ],
      "text/plain": [
       "[1] 20641991       10"
      ]
     },
     "metadata": {},
     "output_type": "display_data"
    },
    {
     "data": {
      "text/html": [
       "206209"
      ],
      "text/latex": [
       "206209"
      ],
      "text/markdown": [
       "206209"
      ],
      "text/plain": [
       "[1] 206209"
      ]
     },
     "metadata": {},
     "output_type": "display_data"
    },
    {
     "data": {
      "text/html": [
       "131209"
      ],
      "text/latex": [
       "131209"
      ],
      "text/markdown": [
       "131209"
      ],
      "text/plain": [
       "[1] 131209"
      ]
     },
     "metadata": {},
     "output_type": "display_data"
    },
    {
     "data": {
      "text/html": [
       "131209"
      ],
      "text/latex": [
       "131209"
      ],
      "text/markdown": [
       "131209"
      ],
      "text/plain": [
       "[1] 131209"
      ]
     },
     "metadata": {},
     "output_type": "display_data"
    }
   ],
   "source": [
    "dim(prior_in_train)\n",
    "length(unique(prior_orders$user_id))\n",
    "length(unique(train_orders$user_id))\n",
    "length(unique(prior_in_train$user_id))"
   ]
  },
  {
   "cell_type": "code",
   "execution_count": 31,
   "metadata": {
    "collapsed": false
   },
   "outputs": [],
   "source": [
    "# append prior_in_train and train_orders\n",
    "train_prior_orders <- rbindlist(list(prior_in_train,train_orders),use.names=TRUE)"
   ]
  },
  {
   "cell_type": "code",
   "execution_count": 32,
   "metadata": {
    "collapsed": false
   },
   "outputs": [],
   "source": [
    "# Merge goods data to train dataset\n",
    "train <- merge(train_prior_orders, goods, x.all = TRUE, by = 'product_id')"
   ]
  },
  {
   "cell_type": "code",
   "execution_count": 33,
   "metadata": {
    "collapsed": false
   },
   "outputs": [
    {
     "data": {
      "text/html": [
       "<ol class=list-inline>\n",
       "\t<li>22026608</li>\n",
       "\t<li>15</li>\n",
       "</ol>\n"
      ],
      "text/latex": [
       "\\begin{enumerate*}\n",
       "\\item 22026608\n",
       "\\item 15\n",
       "\\end{enumerate*}\n"
      ],
      "text/markdown": [
       "1. 22026608\n",
       "2. 15\n",
       "\n",
       "\n"
      ],
      "text/plain": [
       "[1] 22026608       15"
      ]
     },
     "metadata": {},
     "output_type": "display_data"
    }
   ],
   "source": [
    "dim(train)"
   ]
  },
  {
   "cell_type": "code",
   "execution_count": 34,
   "metadata": {
    "collapsed": false
   },
   "outputs": [
    {
     "data": {
      "text/html": [
       "<table>\n",
       "<thead><tr><th scope=col>product_id</th><th scope=col>order_id</th><th scope=col>add_to_cart_order</th><th scope=col>reordered</th><th scope=col>user_id</th><th scope=col>eval_set</th><th scope=col>order_number</th><th scope=col>order_dow</th><th scope=col>order_hour_of_day</th><th scope=col>days_since_prior_order</th><th scope=col>aisle_id</th><th scope=col>department_id</th><th scope=col>product_name</th><th scope=col>department</th><th scope=col>aisle</th></tr></thead>\n",
       "<tbody>\n",
       "\t<tr><td>1                         </td><td>  9273                    </td><td>30                        </td><td>0                         </td><td> 50005                    </td><td>prior                     </td><td>1                         </td><td>1                         </td><td>15                        </td><td>-1                        </td><td>61                        </td><td>19                        </td><td>Chocolate Sandwich Cookies</td><td>snacks                    </td><td>cookies cakes             </td></tr>\n",
       "\t<tr><td>1                         </td><td>114795                    </td><td> 8                        </td><td>0                         </td><td> 92648                    </td><td>prior                     </td><td>1                         </td><td>3                         </td><td>15                        </td><td>-1                        </td><td>61                        </td><td>19                        </td><td>Chocolate Sandwich Cookies</td><td>snacks                    </td><td>cookies cakes             </td></tr>\n",
       "\t<tr><td>1                         </td><td>119302                    </td><td> 4                        </td><td>0                         </td><td>108456                    </td><td>prior                     </td><td>1                         </td><td>1                         </td><td> 9                        </td><td>-1                        </td><td>61                        </td><td>19                        </td><td>Chocolate Sandwich Cookies</td><td>snacks                    </td><td>cookies cakes             </td></tr>\n",
       "\t<tr><td>1                         </td><td>207661                    </td><td> 2                        </td><td>0                         </td><td>  3904                    </td><td>prior                     </td><td>1                         </td><td>1                         </td><td>14                        </td><td>-1                        </td><td>61                        </td><td>19                        </td><td>Chocolate Sandwich Cookies</td><td>snacks                    </td><td>cookies cakes             </td></tr>\n",
       "\t<tr><td>1                         </td><td>354088                    </td><td> 7                        </td><td>0                         </td><td>122586                    </td><td>prior                     </td><td>1                         </td><td>2                         </td><td> 8                        </td><td>-1                        </td><td>61                        </td><td>19                        </td><td>Chocolate Sandwich Cookies</td><td>snacks                    </td><td>cookies cakes             </td></tr>\n",
       "\t<tr><td>1                         </td><td>361190                    </td><td> 1                        </td><td>0                         </td><td> 85811                    </td><td>prior                     </td><td>1                         </td><td>4                         </td><td> 8                        </td><td>-1                        </td><td>61                        </td><td>19                        </td><td>Chocolate Sandwich Cookies</td><td>snacks                    </td><td>cookies cakes             </td></tr>\n",
       "</tbody>\n",
       "</table>\n"
      ],
      "text/latex": [
       "\\begin{tabular}{r|lllllllllllllll}\n",
       " product\\_id & order\\_id & add\\_to\\_cart\\_order & reordered & user\\_id & eval\\_set & order\\_number & order\\_dow & order\\_hour\\_of\\_day & days\\_since\\_prior\\_order & aisle\\_id & department\\_id & product\\_name & department & aisle\\\\\n",
       "\\hline\n",
       "\t 1                          &   9273                     & 30                         & 0                          &  50005                     & prior                      & 1                          & 1                          & 15                         & -1                         & 61                         & 19                         & Chocolate Sandwich Cookies & snacks                     & cookies cakes             \\\\\n",
       "\t 1                          & 114795                     &  8                         & 0                          &  92648                     & prior                      & 1                          & 3                          & 15                         & -1                         & 61                         & 19                         & Chocolate Sandwich Cookies & snacks                     & cookies cakes             \\\\\n",
       "\t 1                          & 119302                     &  4                         & 0                          & 108456                     & prior                      & 1                          & 1                          &  9                         & -1                         & 61                         & 19                         & Chocolate Sandwich Cookies & snacks                     & cookies cakes             \\\\\n",
       "\t 1                          & 207661                     &  2                         & 0                          &   3904                     & prior                      & 1                          & 1                          & 14                         & -1                         & 61                         & 19                         & Chocolate Sandwich Cookies & snacks                     & cookies cakes             \\\\\n",
       "\t 1                          & 354088                     &  7                         & 0                          & 122586                     & prior                      & 1                          & 2                          &  8                         & -1                         & 61                         & 19                         & Chocolate Sandwich Cookies & snacks                     & cookies cakes             \\\\\n",
       "\t 1                          & 361190                     &  1                         & 0                          &  85811                     & prior                      & 1                          & 4                          &  8                         & -1                         & 61                         & 19                         & Chocolate Sandwich Cookies & snacks                     & cookies cakes             \\\\\n",
       "\\end{tabular}\n"
      ],
      "text/markdown": [
       "\n",
       "product_id | order_id | add_to_cart_order | reordered | user_id | eval_set | order_number | order_dow | order_hour_of_day | days_since_prior_order | aisle_id | department_id | product_name | department | aisle | \n",
       "|---|---|---|---|---|---|\n",
       "| 1                          |   9273                     | 30                         | 0                          |  50005                     | prior                      | 1                          | 1                          | 15                         | -1                         | 61                         | 19                         | Chocolate Sandwich Cookies | snacks                     | cookies cakes              | \n",
       "| 1                          | 114795                     |  8                         | 0                          |  92648                     | prior                      | 1                          | 3                          | 15                         | -1                         | 61                         | 19                         | Chocolate Sandwich Cookies | snacks                     | cookies cakes              | \n",
       "| 1                          | 119302                     |  4                         | 0                          | 108456                     | prior                      | 1                          | 1                          |  9                         | -1                         | 61                         | 19                         | Chocolate Sandwich Cookies | snacks                     | cookies cakes              | \n",
       "| 1                          | 207661                     |  2                         | 0                          |   3904                     | prior                      | 1                          | 1                          | 14                         | -1                         | 61                         | 19                         | Chocolate Sandwich Cookies | snacks                     | cookies cakes              | \n",
       "| 1                          | 354088                     |  7                         | 0                          | 122586                     | prior                      | 1                          | 2                          |  8                         | -1                         | 61                         | 19                         | Chocolate Sandwich Cookies | snacks                     | cookies cakes              | \n",
       "| 1                          | 361190                     |  1                         | 0                          |  85811                     | prior                      | 1                          | 4                          |  8                         | -1                         | 61                         | 19                         | Chocolate Sandwich Cookies | snacks                     | cookies cakes              | \n",
       "\n",
       "\n"
      ],
      "text/plain": [
       "  product_id order_id add_to_cart_order reordered user_id eval_set order_number\n",
       "1 1            9273   30                0          50005  prior    1           \n",
       "2 1          114795    8                0          92648  prior    1           \n",
       "3 1          119302    4                0         108456  prior    1           \n",
       "4 1          207661    2                0           3904  prior    1           \n",
       "5 1          354088    7                0         122586  prior    1           \n",
       "6 1          361190    1                0          85811  prior    1           \n",
       "  order_dow order_hour_of_day days_since_prior_order aisle_id department_id\n",
       "1 1         15                -1                     61       19           \n",
       "2 3         15                -1                     61       19           \n",
       "3 1          9                -1                     61       19           \n",
       "4 1         14                -1                     61       19           \n",
       "5 2          8                -1                     61       19           \n",
       "6 4          8                -1                     61       19           \n",
       "  product_name               department aisle        \n",
       "1 Chocolate Sandwich Cookies snacks     cookies cakes\n",
       "2 Chocolate Sandwich Cookies snacks     cookies cakes\n",
       "3 Chocolate Sandwich Cookies snacks     cookies cakes\n",
       "4 Chocolate Sandwich Cookies snacks     cookies cakes\n",
       "5 Chocolate Sandwich Cookies snacks     cookies cakes\n",
       "6 Chocolate Sandwich Cookies snacks     cookies cakes"
      ]
     },
     "metadata": {},
     "output_type": "display_data"
    }
   ],
   "source": [
    "head(train)"
   ]
  },
  {
   "cell_type": "code",
   "execution_count": 40,
   "metadata": {
    "collapsed": false
   },
   "outputs": [],
   "source": [
    "# perpare test data\n",
    "test_orders <- orders[eval_set=='test']"
   ]
  },
  {
   "cell_type": "code",
   "execution_count": 41,
   "metadata": {
    "collapsed": true
   },
   "outputs": [],
   "source": [
    "prior_in_test = prior_orders[user_id %in% unique(test_orders$user_id)]"
   ]
  },
  {
   "cell_type": "code",
   "execution_count": null,
   "metadata": {
    "collapsed": false
   },
   "outputs": [],
   "source": []
  },
  {
   "cell_type": "code",
   "execution_count": null,
   "metadata": {
    "collapsed": false
   },
   "outputs": [],
   "source": []
  }
 ],
 "metadata": {
  "kernelspec": {
   "display_name": "R",
   "language": "R",
   "name": "ir"
  },
  "language_info": {
   "codemirror_mode": "r",
   "file_extension": ".r",
   "mimetype": "text/x-r-source",
   "name": "R",
   "pygments_lexer": "r",
   "version": "3.4.0"
  }
 },
 "nbformat": 4,
 "nbformat_minor": 2
}
